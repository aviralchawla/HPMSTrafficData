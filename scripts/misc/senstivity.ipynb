{
 "cells": [
  {
   "cell_type": "code",
   "execution_count": 1,
   "metadata": {},
   "outputs": [],
   "source": [
    "import seaborn as sns\n",
    "import matplotlib.pyplot as plt\n",
    "import pandas as pd\n",
    "import numpy as np\n",
    "from pathlib import Path\n",
    "import sys\n",
    "import seaborn as sns\n",
    "import geopandas as gpd\n",
    "import tqdm\n",
    "\n",
    "from sklearn.metrics import mean_squared_error, mean_absolute_error, r2_score\n",
    "\n",
    "plt.rcParams['axes.axisbelow'] = True"
   ]
  },
  {
   "cell_type": "code",
   "execution_count": 2,
   "metadata": {},
   "outputs": [],
   "source": [
    "# Get the absolute path of the parent directory\n",
    "# parent_dir = str(Path(__file__).resolve().parent.parent)\n",
    "\n",
    "parent_dir = str(Path().cwd().parent)\n",
    "\n",
    "# Add the parent directory to sys.path\n",
    "if parent_dir not in sys.path:\n",
    "    sys.path.append(parent_dir)\n",
    "\n",
    "# Now you can import the module as if it was in the same directory\n",
    "import utils.aadt_predictor as ap"
   ]
  },
  {
   "cell_type": "markdown",
   "metadata": {},
   "source": [
    "### Load data"
   ]
  },
  {
   "cell_type": "code",
   "execution_count": 3,
   "metadata": {},
   "outputs": [
    {
     "name": "stdout",
     "output_type": "stream",
     "text": [
      "Loading data from ../../data/processed_data/HPMS/hpms_aadt_subset.csv\n"
     ]
    },
    {
     "name": "stderr",
     "output_type": "stream",
     "text": [
      "/Users/aviralchawla/Library/CloudStorage/OneDrive-StJohn'sCollege/Work/CSDS/TRC/NearRoadExposure/scripts/utils/aadt_predictor.py:37: DtypeWarning: Columns (6) have mixed types. Specify dtype option on import or set low_memory=False.\n",
      "  self.data_full = pd.read_csv(self.data_path)\n"
     ]
    },
    {
     "name": "stdout",
     "output_type": "stream",
     "text": [
      "Full Data loaded successfully: 6677169 rows and 21 columns.\n",
      "Pre-processing data...\n",
      "ERROR: The data could not be subsetted. [None]\n",
      "ERROR: The data could not be loaded. 'NoneType' object has no attribute 'shape'\n"
     ]
    }
   ],
   "source": [
    "HPMS_DIR = Path('../../data/processed_data/HPMS')\n",
    "RANDOM_STATE = None\n",
    "RESPONSE_VARS = ['AADT_MDV', 'AADT_HDV']\n",
    "RF_PREDICTOR_VARS = [\"STATEFP\", \"COUNTYFP\", \"F_SYSTEM\", \"THROUGH_LANES\", \"AADT\"]\n",
    "\n",
    "predictor = ap.AADTPredictor(HPMS_DIR / 'hpms_aadt_subset.csv', None, random_state = RANDOM_STATE)"
   ]
  },
  {
   "cell_type": "code",
   "execution_count": 4,
   "metadata": {},
   "outputs": [],
   "source": [
    "ERROR_SCOPE = np.concatenate([np.arange(0, 0.01, 0.001), np.arange(0.01, 0.1, 0.005)])"
   ]
  },
  {
   "cell_type": "code",
   "execution_count": 5,
   "metadata": {},
   "outputs": [
    {
     "name": "stdout",
     "output_type": "stream",
     "text": [
      "Training Data subsetted successfully with AADT_MDV: 4807444 rows and 21 columns.\n"
     ]
    },
    {
     "name": "stderr",
     "output_type": "stream",
     "text": [
      "  0%|          | 0/28 [00:00<?, ?it/s]"
     ]
    },
    {
     "name": "stdout",
     "output_type": "stream",
     "text": [
      "Training and testing data split with test size 0.2 on State None and not stratified ...\n",
      "Random Forest model initialized with- {'n_jobs': -1}\n",
      "Model trained successfully\n",
      "Training and testing data split with test size 0.2 on State None and not stratified ...\n",
      "Random Forest model initialized with- {'n_jobs': -1}\n",
      "Model trained successfully\n",
      "Training and testing data split with test size 0.2 on State None and not stratified ...\n",
      "Random Forest model initialized with- {'n_jobs': -1}\n",
      "Model trained successfully\n",
      "Training and testing data split with test size 0.2 on State None and not stratified ...\n",
      "Random Forest model initialized with- {'n_jobs': -1}\n",
      "Model trained successfully\n",
      "Training and testing data split with test size 0.2 on State None and not stratified ...\n",
      "Random Forest model initialized with- {'n_jobs': -1}\n",
      "Model trained successfully\n"
     ]
    },
    {
     "name": "stderr",
     "output_type": "stream",
     "text": [
      "  4%|▎         | 1/28 [09:14<4:09:21, 554.11s/it]"
     ]
    },
    {
     "name": "stdout",
     "output_type": "stream",
     "text": [
      "Training and testing data split with test size 0.2 on State None and not stratified ...\n",
      "Random Forest model initialized with- {'n_jobs': -1}\n",
      "Model trained successfully\n",
      "Training and testing data split with test size 0.2 on State None and not stratified ...\n",
      "Random Forest model initialized with- {'n_jobs': -1}\n",
      "Model trained successfully\n",
      "Training and testing data split with test size 0.2 on State None and not stratified ...\n",
      "Random Forest model initialized with- {'n_jobs': -1}\n",
      "Model trained successfully\n",
      "Training and testing data split with test size 0.2 on State None and not stratified ...\n",
      "Random Forest model initialized with- {'n_jobs': -1}\n",
      "Model trained successfully\n",
      "Training and testing data split with test size 0.2 on State None and not stratified ...\n",
      "Random Forest model initialized with- {'n_jobs': -1}\n",
      "Model trained successfully\n"
     ]
    },
    {
     "name": "stderr",
     "output_type": "stream",
     "text": [
      "  7%|▋         | 2/28 [22:28<5:01:16, 695.26s/it]"
     ]
    },
    {
     "name": "stdout",
     "output_type": "stream",
     "text": [
      "Training and testing data split with test size 0.2 on State None and not stratified ...\n",
      "Random Forest model initialized with- {'n_jobs': -1}\n",
      "Model trained successfully\n",
      "Training and testing data split with test size 0.2 on State None and not stratified ...\n",
      "Random Forest model initialized with- {'n_jobs': -1}\n",
      "Model trained successfully\n",
      "Training and testing data split with test size 0.2 on State None and not stratified ...\n",
      "Random Forest model initialized with- {'n_jobs': -1}\n",
      "Model trained successfully\n",
      "Training and testing data split with test size 0.2 on State None and not stratified ...\n",
      "Random Forest model initialized with- {'n_jobs': -1}\n",
      "Model trained successfully\n",
      "Training and testing data split with test size 0.2 on State None and not stratified ...\n",
      "Random Forest model initialized with- {'n_jobs': -1}\n",
      "Model trained successfully\n"
     ]
    },
    {
     "name": "stderr",
     "output_type": "stream",
     "text": [
      " 11%|█         | 3/28 [35:27<5:05:38, 733.54s/it]"
     ]
    },
    {
     "name": "stdout",
     "output_type": "stream",
     "text": [
      "Training and testing data split with test size 0.2 on State None and not stratified ...\n",
      "Random Forest model initialized with- {'n_jobs': -1}\n",
      "Model trained successfully\n",
      "Training and testing data split with test size 0.2 on State None and not stratified ...\n",
      "Random Forest model initialized with- {'n_jobs': -1}\n",
      "Model trained successfully\n",
      "Training and testing data split with test size 0.2 on State None and not stratified ...\n",
      "Random Forest model initialized with- {'n_jobs': -1}\n",
      "Model trained successfully\n",
      "Training and testing data split with test size 0.2 on State None and not stratified ...\n",
      "Random Forest model initialized with- {'n_jobs': -1}\n",
      "Model trained successfully\n",
      "Training and testing data split with test size 0.2 on State None and not stratified ...\n",
      "Random Forest model initialized with- {'n_jobs': -1}\n",
      "Model trained successfully\n"
     ]
    },
    {
     "name": "stderr",
     "output_type": "stream",
     "text": [
      " 14%|█▍        | 4/28 [48:35<5:02:00, 755.03s/it]"
     ]
    },
    {
     "name": "stdout",
     "output_type": "stream",
     "text": [
      "Training and testing data split with test size 0.2 on State None and not stratified ...\n",
      "Random Forest model initialized with- {'n_jobs': -1}\n",
      "Model trained successfully\n",
      "Training and testing data split with test size 0.2 on State None and not stratified ...\n",
      "Random Forest model initialized with- {'n_jobs': -1}\n",
      "Model trained successfully\n",
      "Training and testing data split with test size 0.2 on State None and not stratified ...\n",
      "Random Forest model initialized with- {'n_jobs': -1}\n",
      "Model trained successfully\n",
      "Training and testing data split with test size 0.2 on State None and not stratified ...\n",
      "Random Forest model initialized with- {'n_jobs': -1}\n",
      "Model trained successfully\n",
      "Training and testing data split with test size 0.2 on State None and not stratified ...\n",
      "Random Forest model initialized with- {'n_jobs': -1}\n",
      "Model trained successfully\n"
     ]
    },
    {
     "name": "stderr",
     "output_type": "stream",
     "text": [
      " 18%|█▊        | 5/28 [1:01:48<4:54:43, 768.86s/it]"
     ]
    },
    {
     "name": "stdout",
     "output_type": "stream",
     "text": [
      "Training and testing data split with test size 0.2 on State None and not stratified ...\n",
      "Random Forest model initialized with- {'n_jobs': -1}\n",
      "Model trained successfully\n",
      "Training and testing data split with test size 0.2 on State None and not stratified ...\n",
      "Random Forest model initialized with- {'n_jobs': -1}\n",
      "Model trained successfully\n",
      "Training and testing data split with test size 0.2 on State None and not stratified ...\n",
      "Random Forest model initialized with- {'n_jobs': -1}\n",
      "Model trained successfully\n",
      "Training and testing data split with test size 0.2 on State None and not stratified ...\n",
      "Random Forest model initialized with- {'n_jobs': -1}\n",
      "Model trained successfully\n",
      "Training and testing data split with test size 0.2 on State None and not stratified ...\n",
      "Random Forest model initialized with- {'n_jobs': -1}\n",
      "Model trained successfully\n"
     ]
    },
    {
     "name": "stderr",
     "output_type": "stream",
     "text": [
      " 21%|██▏       | 6/28 [1:15:07<4:45:42, 779.22s/it]"
     ]
    },
    {
     "name": "stdout",
     "output_type": "stream",
     "text": [
      "Training and testing data split with test size 0.2 on State None and not stratified ...\n",
      "Random Forest model initialized with- {'n_jobs': -1}\n",
      "Model trained successfully\n",
      "Training and testing data split with test size 0.2 on State None and not stratified ...\n",
      "Random Forest model initialized with- {'n_jobs': -1}\n",
      "Model trained successfully\n",
      "Training and testing data split with test size 0.2 on State None and not stratified ...\n",
      "Random Forest model initialized with- {'n_jobs': -1}\n",
      "Model trained successfully\n",
      "Training and testing data split with test size 0.2 on State None and not stratified ...\n",
      "Random Forest model initialized with- {'n_jobs': -1}\n",
      "Model trained successfully\n",
      "Training and testing data split with test size 0.2 on State None and not stratified ...\n",
      "Random Forest model initialized with- {'n_jobs': -1}\n",
      "Model trained successfully\n"
     ]
    },
    {
     "name": "stderr",
     "output_type": "stream",
     "text": [
      " 25%|██▌       | 7/28 [1:28:17<4:33:56, 782.68s/it]"
     ]
    },
    {
     "name": "stdout",
     "output_type": "stream",
     "text": [
      "Training and testing data split with test size 0.2 on State None and not stratified ...\n",
      "Random Forest model initialized with- {'n_jobs': -1}\n",
      "Model trained successfully\n",
      "Training and testing data split with test size 0.2 on State None and not stratified ...\n",
      "Random Forest model initialized with- {'n_jobs': -1}\n",
      "Model trained successfully\n",
      "Training and testing data split with test size 0.2 on State None and not stratified ...\n",
      "Random Forest model initialized with- {'n_jobs': -1}\n",
      "Model trained successfully\n",
      "Training and testing data split with test size 0.2 on State None and not stratified ...\n",
      "Random Forest model initialized with- {'n_jobs': -1}\n",
      "Model trained successfully\n",
      "Training and testing data split with test size 0.2 on State None and not stratified ...\n",
      "Random Forest model initialized with- {'n_jobs': -1}\n",
      "Model trained successfully\n"
     ]
    },
    {
     "name": "stderr",
     "output_type": "stream",
     "text": [
      " 29%|██▊       | 8/28 [1:41:31<4:22:01, 786.07s/it]"
     ]
    },
    {
     "name": "stdout",
     "output_type": "stream",
     "text": [
      "Training and testing data split with test size 0.2 on State None and not stratified ...\n",
      "Random Forest model initialized with- {'n_jobs': -1}\n",
      "Model trained successfully\n",
      "Training and testing data split with test size 0.2 on State None and not stratified ...\n",
      "Random Forest model initialized with- {'n_jobs': -1}\n",
      "Model trained successfully\n",
      "Training and testing data split with test size 0.2 on State None and not stratified ...\n",
      "Random Forest model initialized with- {'n_jobs': -1}\n",
      "Model trained successfully\n",
      "Training and testing data split with test size 0.2 on State None and not stratified ...\n",
      "Random Forest model initialized with- {'n_jobs': -1}\n",
      "Model trained successfully\n",
      "Training and testing data split with test size 0.2 on State None and not stratified ...\n",
      "Random Forest model initialized with- {'n_jobs': -1}\n",
      "Model trained successfully\n"
     ]
    },
    {
     "name": "stderr",
     "output_type": "stream",
     "text": [
      " 32%|███▏      | 9/28 [1:54:51<4:10:19, 790.48s/it]"
     ]
    },
    {
     "name": "stdout",
     "output_type": "stream",
     "text": [
      "Training and testing data split with test size 0.2 on State None and not stratified ...\n",
      "Random Forest model initialized with- {'n_jobs': -1}\n",
      "Model trained successfully\n",
      "Training and testing data split with test size 0.2 on State None and not stratified ...\n",
      "Random Forest model initialized with- {'n_jobs': -1}\n",
      "Model trained successfully\n",
      "Training and testing data split with test size 0.2 on State None and not stratified ...\n",
      "Random Forest model initialized with- {'n_jobs': -1}\n",
      "Model trained successfully\n",
      "Training and testing data split with test size 0.2 on State None and not stratified ...\n",
      "Random Forest model initialized with- {'n_jobs': -1}\n",
      "Model trained successfully\n",
      "Training and testing data split with test size 0.2 on State None and not stratified ...\n",
      "Random Forest model initialized with- {'n_jobs': -1}\n",
      "Model trained successfully\n"
     ]
    },
    {
     "name": "stderr",
     "output_type": "stream",
     "text": [
      " 36%|███▌      | 10/28 [2:08:09<3:57:53, 792.97s/it]"
     ]
    },
    {
     "name": "stdout",
     "output_type": "stream",
     "text": [
      "Training and testing data split with test size 0.2 on State None and not stratified ...\n",
      "Random Forest model initialized with- {'n_jobs': -1}\n",
      "Model trained successfully\n",
      "Training and testing data split with test size 0.2 on State None and not stratified ...\n",
      "Random Forest model initialized with- {'n_jobs': -1}\n",
      "Model trained successfully\n",
      "Training and testing data split with test size 0.2 on State None and not stratified ...\n",
      "Random Forest model initialized with- {'n_jobs': -1}\n",
      "Model trained successfully\n",
      "Training and testing data split with test size 0.2 on State None and not stratified ...\n",
      "Random Forest model initialized with- {'n_jobs': -1}\n",
      "Model trained successfully\n",
      "Training and testing data split with test size 0.2 on State None and not stratified ...\n",
      "Random Forest model initialized with- {'n_jobs': -1}\n",
      "Model trained successfully\n"
     ]
    },
    {
     "name": "stderr",
     "output_type": "stream",
     "text": [
      " 39%|███▉      | 11/28 [2:21:27<3:45:02, 794.28s/it]"
     ]
    },
    {
     "name": "stdout",
     "output_type": "stream",
     "text": [
      "Training and testing data split with test size 0.2 on State None and not stratified ...\n",
      "Random Forest model initialized with- {'n_jobs': -1}\n",
      "Model trained successfully\n",
      "Training and testing data split with test size 0.2 on State None and not stratified ...\n",
      "Random Forest model initialized with- {'n_jobs': -1}\n",
      "Model trained successfully\n",
      "Training and testing data split with test size 0.2 on State None and not stratified ...\n",
      "Random Forest model initialized with- {'n_jobs': -1}\n",
      "Model trained successfully\n",
      "Training and testing data split with test size 0.2 on State None and not stratified ...\n",
      "Random Forest model initialized with- {'n_jobs': -1}\n",
      "Model trained successfully\n",
      "Training and testing data split with test size 0.2 on State None and not stratified ...\n",
      "Random Forest model initialized with- {'n_jobs': -1}\n",
      "Model trained successfully\n"
     ]
    },
    {
     "name": "stderr",
     "output_type": "stream",
     "text": [
      " 43%|████▎     | 12/28 [2:34:48<3:32:25, 796.61s/it]"
     ]
    },
    {
     "name": "stdout",
     "output_type": "stream",
     "text": [
      "Training and testing data split with test size 0.2 on State None and not stratified ...\n",
      "Random Forest model initialized with- {'n_jobs': -1}\n",
      "Model trained successfully\n",
      "Training and testing data split with test size 0.2 on State None and not stratified ...\n",
      "Random Forest model initialized with- {'n_jobs': -1}\n",
      "Model trained successfully\n",
      "Training and testing data split with test size 0.2 on State None and not stratified ...\n",
      "Random Forest model initialized with- {'n_jobs': -1}\n",
      "Model trained successfully\n",
      "Training and testing data split with test size 0.2 on State None and not stratified ...\n",
      "Random Forest model initialized with- {'n_jobs': -1}\n",
      "Model trained successfully\n",
      "Training and testing data split with test size 0.2 on State None and not stratified ...\n",
      "Random Forest model initialized with- {'n_jobs': -1}\n",
      "Model trained successfully\n"
     ]
    },
    {
     "name": "stderr",
     "output_type": "stream",
     "text": [
      " 46%|████▋     | 13/28 [2:48:22<3:20:26, 801.74s/it]"
     ]
    },
    {
     "name": "stdout",
     "output_type": "stream",
     "text": [
      "Training and testing data split with test size 0.2 on State None and not stratified ...\n",
      "Random Forest model initialized with- {'n_jobs': -1}\n",
      "Model trained successfully\n",
      "Training and testing data split with test size 0.2 on State None and not stratified ...\n",
      "Random Forest model initialized with- {'n_jobs': -1}\n",
      "Model trained successfully\n",
      "Training and testing data split with test size 0.2 on State None and not stratified ...\n",
      "Random Forest model initialized with- {'n_jobs': -1}\n",
      "Model trained successfully\n",
      "Training and testing data split with test size 0.2 on State None and not stratified ...\n",
      "Random Forest model initialized with- {'n_jobs': -1}\n",
      "Model trained successfully\n",
      "Training and testing data split with test size 0.2 on State None and not stratified ...\n",
      "Random Forest model initialized with- {'n_jobs': -1}\n",
      "Model trained successfully\n"
     ]
    },
    {
     "name": "stderr",
     "output_type": "stream",
     "text": [
      " 50%|█████     | 14/28 [3:02:06<3:08:36, 808.34s/it]"
     ]
    },
    {
     "name": "stdout",
     "output_type": "stream",
     "text": [
      "Training and testing data split with test size 0.2 on State None and not stratified ...\n",
      "Random Forest model initialized with- {'n_jobs': -1}\n",
      "Model trained successfully\n",
      "Training and testing data split with test size 0.2 on State None and not stratified ...\n",
      "Random Forest model initialized with- {'n_jobs': -1}\n",
      "Model trained successfully\n",
      "Training and testing data split with test size 0.2 on State None and not stratified ...\n",
      "Random Forest model initialized with- {'n_jobs': -1}\n",
      "Model trained successfully\n",
      "Training and testing data split with test size 0.2 on State None and not stratified ...\n",
      "Random Forest model initialized with- {'n_jobs': -1}\n",
      "Model trained successfully\n",
      "Training and testing data split with test size 0.2 on State None and not stratified ...\n",
      "Random Forest model initialized with- {'n_jobs': -1}\n",
      "Model trained successfully\n"
     ]
    },
    {
     "name": "stderr",
     "output_type": "stream",
     "text": [
      " 54%|█████▎    | 15/28 [3:15:52<2:56:19, 813.77s/it]"
     ]
    },
    {
     "name": "stdout",
     "output_type": "stream",
     "text": [
      "Training and testing data split with test size 0.2 on State None and not stratified ...\n",
      "Random Forest model initialized with- {'n_jobs': -1}\n",
      "Model trained successfully\n",
      "Training and testing data split with test size 0.2 on State None and not stratified ...\n",
      "Random Forest model initialized with- {'n_jobs': -1}\n",
      "Model trained successfully\n",
      "Training and testing data split with test size 0.2 on State None and not stratified ...\n",
      "Random Forest model initialized with- {'n_jobs': -1}\n",
      "Model trained successfully\n",
      "Training and testing data split with test size 0.2 on State None and not stratified ...\n",
      "Random Forest model initialized with- {'n_jobs': -1}\n",
      "Model trained successfully\n",
      "Training and testing data split with test size 0.2 on State None and not stratified ...\n",
      "Random Forest model initialized with- {'n_jobs': -1}\n",
      "Model trained successfully\n"
     ]
    },
    {
     "name": "stderr",
     "output_type": "stream",
     "text": [
      " 57%|█████▋    | 16/28 [3:29:45<2:43:56, 819.71s/it]"
     ]
    },
    {
     "name": "stdout",
     "output_type": "stream",
     "text": [
      "Training and testing data split with test size 0.2 on State None and not stratified ...\n",
      "Random Forest model initialized with- {'n_jobs': -1}\n",
      "Model trained successfully\n",
      "Training and testing data split with test size 0.2 on State None and not stratified ...\n",
      "Random Forest model initialized with- {'n_jobs': -1}\n",
      "Model trained successfully\n",
      "Training and testing data split with test size 0.2 on State None and not stratified ...\n",
      "Random Forest model initialized with- {'n_jobs': -1}\n",
      "Model trained successfully\n",
      "Training and testing data split with test size 0.2 on State None and not stratified ...\n",
      "Random Forest model initialized with- {'n_jobs': -1}\n",
      "Model trained successfully\n",
      "Training and testing data split with test size 0.2 on State None and not stratified ...\n",
      "Random Forest model initialized with- {'n_jobs': -1}\n",
      "Model trained successfully\n"
     ]
    },
    {
     "name": "stderr",
     "output_type": "stream",
     "text": [
      " 61%|██████    | 17/28 [3:43:40<2:31:06, 824.26s/it]"
     ]
    },
    {
     "name": "stdout",
     "output_type": "stream",
     "text": [
      "Training and testing data split with test size 0.2 on State None and not stratified ...\n",
      "Random Forest model initialized with- {'n_jobs': -1}\n",
      "Model trained successfully\n",
      "Training and testing data split with test size 0.2 on State None and not stratified ...\n",
      "Random Forest model initialized with- {'n_jobs': -1}\n",
      "Model trained successfully\n",
      "Training and testing data split with test size 0.2 on State None and not stratified ...\n",
      "Random Forest model initialized with- {'n_jobs': -1}\n",
      "Model trained successfully\n",
      "Training and testing data split with test size 0.2 on State None and not stratified ...\n",
      "Random Forest model initialized with- {'n_jobs': -1}\n",
      "Model trained successfully\n",
      "Training and testing data split with test size 0.2 on State None and not stratified ...\n",
      "Random Forest model initialized with- {'n_jobs': -1}\n",
      "Model trained successfully\n"
     ]
    },
    {
     "name": "stderr",
     "output_type": "stream",
     "text": [
      " 64%|██████▍   | 18/28 [3:57:40<2:18:09, 828.93s/it]"
     ]
    },
    {
     "name": "stdout",
     "output_type": "stream",
     "text": [
      "Training and testing data split with test size 0.2 on State None and not stratified ...\n",
      "Random Forest model initialized with- {'n_jobs': -1}\n",
      "Model trained successfully\n",
      "Training and testing data split with test size 0.2 on State None and not stratified ...\n",
      "Random Forest model initialized with- {'n_jobs': -1}\n",
      "Model trained successfully\n",
      "Training and testing data split with test size 0.2 on State None and not stratified ...\n",
      "Random Forest model initialized with- {'n_jobs': -1}\n",
      "Model trained successfully\n",
      "Training and testing data split with test size 0.2 on State None and not stratified ...\n",
      "Random Forest model initialized with- {'n_jobs': -1}\n",
      "Model trained successfully\n",
      "Training and testing data split with test size 0.2 on State None and not stratified ...\n",
      "Random Forest model initialized with- {'n_jobs': -1}\n",
      "Model trained successfully\n"
     ]
    },
    {
     "name": "stderr",
     "output_type": "stream",
     "text": [
      " 68%|██████▊   | 19/28 [4:11:32<2:04:27, 829.73s/it]"
     ]
    },
    {
     "name": "stdout",
     "output_type": "stream",
     "text": [
      "Training and testing data split with test size 0.2 on State None and not stratified ...\n",
      "Random Forest model initialized with- {'n_jobs': -1}\n",
      "Model trained successfully\n",
      "Training and testing data split with test size 0.2 on State None and not stratified ...\n",
      "Random Forest model initialized with- {'n_jobs': -1}\n",
      "Model trained successfully\n",
      "Training and testing data split with test size 0.2 on State None and not stratified ...\n",
      "Random Forest model initialized with- {'n_jobs': -1}\n",
      "Model trained successfully\n",
      "Training and testing data split with test size 0.2 on State None and not stratified ...\n",
      "Random Forest model initialized with- {'n_jobs': -1}\n",
      "Model trained successfully\n",
      "Training and testing data split with test size 0.2 on State None and not stratified ...\n",
      "Random Forest model initialized with- {'n_jobs': -1}\n",
      "Model trained successfully\n"
     ]
    },
    {
     "name": "stderr",
     "output_type": "stream",
     "text": [
      " 71%|███████▏  | 20/28 [4:25:30<1:50:58, 832.30s/it]"
     ]
    },
    {
     "name": "stdout",
     "output_type": "stream",
     "text": [
      "Training and testing data split with test size 0.2 on State None and not stratified ...\n",
      "Random Forest model initialized with- {'n_jobs': -1}\n",
      "Model trained successfully\n",
      "Training and testing data split with test size 0.2 on State None and not stratified ...\n",
      "Random Forest model initialized with- {'n_jobs': -1}\n",
      "Model trained successfully\n",
      "Training and testing data split with test size 0.2 on State None and not stratified ...\n",
      "Random Forest model initialized with- {'n_jobs': -1}\n",
      "Model trained successfully\n",
      "Training and testing data split with test size 0.2 on State None and not stratified ...\n",
      "Random Forest model initialized with- {'n_jobs': -1}\n",
      "Model trained successfully\n",
      "Training and testing data split with test size 0.2 on State None and not stratified ...\n",
      "Random Forest model initialized with- {'n_jobs': -1}\n",
      "Model trained successfully\n"
     ]
    },
    {
     "name": "stderr",
     "output_type": "stream",
     "text": [
      " 75%|███████▌  | 21/28 [4:39:30<1:37:22, 834.59s/it]"
     ]
    },
    {
     "name": "stdout",
     "output_type": "stream",
     "text": [
      "Training and testing data split with test size 0.2 on State None and not stratified ...\n",
      "Random Forest model initialized with- {'n_jobs': -1}\n",
      "Model trained successfully\n",
      "Training and testing data split with test size 0.2 on State None and not stratified ...\n",
      "Random Forest model initialized with- {'n_jobs': -1}\n",
      "Model trained successfully\n",
      "Training and testing data split with test size 0.2 on State None and not stratified ...\n",
      "Random Forest model initialized with- {'n_jobs': -1}\n",
      "Model trained successfully\n",
      "Training and testing data split with test size 0.2 on State None and not stratified ...\n",
      "Random Forest model initialized with- {'n_jobs': -1}\n",
      "Model trained successfully\n",
      "Training and testing data split with test size 0.2 on State None and not stratified ...\n",
      "Random Forest model initialized with- {'n_jobs': -1}\n",
      "Model trained successfully\n"
     ]
    },
    {
     "name": "stderr",
     "output_type": "stream",
     "text": [
      " 79%|███████▊  | 22/28 [4:53:37<1:23:49, 838.21s/it]"
     ]
    },
    {
     "name": "stdout",
     "output_type": "stream",
     "text": [
      "Training and testing data split with test size 0.2 on State None and not stratified ...\n",
      "Random Forest model initialized with- {'n_jobs': -1}\n",
      "Model trained successfully\n",
      "Training and testing data split with test size 0.2 on State None and not stratified ...\n",
      "Random Forest model initialized with- {'n_jobs': -1}\n",
      "Model trained successfully\n",
      "Training and testing data split with test size 0.2 on State None and not stratified ...\n",
      "Random Forest model initialized with- {'n_jobs': -1}\n",
      "Model trained successfully\n",
      "Training and testing data split with test size 0.2 on State None and not stratified ...\n",
      "Random Forest model initialized with- {'n_jobs': -1}\n",
      "Model trained successfully\n",
      "Training and testing data split with test size 0.2 on State None and not stratified ...\n",
      "Random Forest model initialized with- {'n_jobs': -1}\n",
      "Model trained successfully\n"
     ]
    },
    {
     "name": "stderr",
     "output_type": "stream",
     "text": [
      " 82%|████████▏ | 23/28 [5:07:42<1:10:02, 840.50s/it]"
     ]
    },
    {
     "name": "stdout",
     "output_type": "stream",
     "text": [
      "Training and testing data split with test size 0.2 on State None and not stratified ...\n",
      "Random Forest model initialized with- {'n_jobs': -1}\n",
      "Model trained successfully\n",
      "Training and testing data split with test size 0.2 on State None and not stratified ...\n",
      "Random Forest model initialized with- {'n_jobs': -1}\n",
      "Model trained successfully\n",
      "Training and testing data split with test size 0.2 on State None and not stratified ...\n",
      "Random Forest model initialized with- {'n_jobs': -1}\n",
      "Model trained successfully\n",
      "Training and testing data split with test size 0.2 on State None and not stratified ...\n",
      "Random Forest model initialized with- {'n_jobs': -1}\n",
      "Model trained successfully\n",
      "Training and testing data split with test size 0.2 on State None and not stratified ...\n",
      "Random Forest model initialized with- {'n_jobs': -1}\n",
      "Model trained successfully\n"
     ]
    },
    {
     "name": "stderr",
     "output_type": "stream",
     "text": [
      " 86%|████████▌ | 24/28 [5:21:50<56:10, 842.52s/it]  "
     ]
    },
    {
     "name": "stdout",
     "output_type": "stream",
     "text": [
      "Training and testing data split with test size 0.2 on State None and not stratified ...\n",
      "Random Forest model initialized with- {'n_jobs': -1}\n",
      "Model trained successfully\n",
      "Training and testing data split with test size 0.2 on State None and not stratified ...\n",
      "Random Forest model initialized with- {'n_jobs': -1}\n",
      "Model trained successfully\n",
      "Training and testing data split with test size 0.2 on State None and not stratified ...\n",
      "Random Forest model initialized with- {'n_jobs': -1}\n",
      "Model trained successfully\n",
      "Training and testing data split with test size 0.2 on State None and not stratified ...\n",
      "Random Forest model initialized with- {'n_jobs': -1}\n",
      "Model trained successfully\n",
      "Training and testing data split with test size 0.2 on State None and not stratified ...\n",
      "Random Forest model initialized with- {'n_jobs': -1}\n",
      "Model trained successfully\n"
     ]
    },
    {
     "name": "stderr",
     "output_type": "stream",
     "text": [
      " 89%|████████▉ | 25/28 [5:36:02<42:16, 845.51s/it]"
     ]
    },
    {
     "name": "stdout",
     "output_type": "stream",
     "text": [
      "Training and testing data split with test size 0.2 on State None and not stratified ...\n",
      "Random Forest model initialized with- {'n_jobs': -1}\n",
      "Model trained successfully\n",
      "Training and testing data split with test size 0.2 on State None and not stratified ...\n",
      "Random Forest model initialized with- {'n_jobs': -1}\n",
      "Model trained successfully\n",
      "Training and testing data split with test size 0.2 on State None and not stratified ...\n",
      "Random Forest model initialized with- {'n_jobs': -1}\n",
      "Model trained successfully\n",
      "Training and testing data split with test size 0.2 on State None and not stratified ...\n",
      "Random Forest model initialized with- {'n_jobs': -1}\n",
      "Model trained successfully\n",
      "Training and testing data split with test size 0.2 on State None and not stratified ...\n",
      "Random Forest model initialized with- {'n_jobs': -1}\n",
      "Model trained successfully\n"
     ]
    },
    {
     "name": "stderr",
     "output_type": "stream",
     "text": [
      " 93%|█████████▎| 26/28 [5:50:15<28:15, 847.86s/it]"
     ]
    },
    {
     "name": "stdout",
     "output_type": "stream",
     "text": [
      "Training and testing data split with test size 0.2 on State None and not stratified ...\n",
      "Random Forest model initialized with- {'n_jobs': -1}\n",
      "Model trained successfully\n",
      "Training and testing data split with test size 0.2 on State None and not stratified ...\n",
      "Random Forest model initialized with- {'n_jobs': -1}\n",
      "Model trained successfully\n",
      "Training and testing data split with test size 0.2 on State None and not stratified ...\n",
      "Random Forest model initialized with- {'n_jobs': -1}\n",
      "Model trained successfully\n",
      "Training and testing data split with test size 0.2 on State None and not stratified ...\n",
      "Random Forest model initialized with- {'n_jobs': -1}\n",
      "Model trained successfully\n",
      "Training and testing data split with test size 0.2 on State None and not stratified ...\n",
      "Random Forest model initialized with- {'n_jobs': -1}\n",
      "Model trained successfully\n"
     ]
    },
    {
     "name": "stderr",
     "output_type": "stream",
     "text": [
      " 96%|█████████▋| 27/28 [6:04:38<14:12, 852.24s/it]"
     ]
    },
    {
     "name": "stdout",
     "output_type": "stream",
     "text": [
      "Training and testing data split with test size 0.2 on State None and not stratified ...\n",
      "Random Forest model initialized with- {'n_jobs': -1}\n",
      "Model trained successfully\n",
      "Training and testing data split with test size 0.2 on State None and not stratified ...\n",
      "Random Forest model initialized with- {'n_jobs': -1}\n",
      "Model trained successfully\n",
      "Training and testing data split with test size 0.2 on State None and not stratified ...\n",
      "Random Forest model initialized with- {'n_jobs': -1}\n",
      "Model trained successfully\n",
      "Training and testing data split with test size 0.2 on State None and not stratified ...\n",
      "Random Forest model initialized with- {'n_jobs': -1}\n",
      "Model trained successfully\n",
      "Training and testing data split with test size 0.2 on State None and not stratified ...\n",
      "Random Forest model initialized with- {'n_jobs': -1}\n",
      "Model trained successfully\n"
     ]
    },
    {
     "name": "stderr",
     "output_type": "stream",
     "text": [
      "100%|██████████| 28/28 [6:19:07<00:00, 812.41s/it]\n"
     ]
    },
    {
     "name": "stdout",
     "output_type": "stream",
     "text": [
      "Training Data subsetted successfully with AADT_HDV: 4807255 rows and 21 columns.\n"
     ]
    },
    {
     "name": "stderr",
     "output_type": "stream",
     "text": [
      "  0%|          | 0/28 [00:00<?, ?it/s]"
     ]
    },
    {
     "name": "stdout",
     "output_type": "stream",
     "text": [
      "Training and testing data split with test size 0.2 on State None and not stratified ...\n",
      "Random Forest model initialized with- {'n_jobs': -1}\n",
      "Model trained successfully\n",
      "Training and testing data split with test size 0.2 on State None and not stratified ...\n",
      "Random Forest model initialized with- {'n_jobs': -1}\n",
      "Model trained successfully\n",
      "Training and testing data split with test size 0.2 on State None and not stratified ...\n",
      "Random Forest model initialized with- {'n_jobs': -1}\n",
      "Model trained successfully\n",
      "Training and testing data split with test size 0.2 on State None and not stratified ...\n",
      "Random Forest model initialized with- {'n_jobs': -1}\n",
      "Model trained successfully\n",
      "Training and testing data split with test size 0.2 on State None and not stratified ...\n",
      "Random Forest model initialized with- {'n_jobs': -1}\n",
      "Model trained successfully\n"
     ]
    },
    {
     "name": "stderr",
     "output_type": "stream",
     "text": [
      "  4%|▎         | 1/28 [07:42<3:28:05, 462.41s/it]"
     ]
    },
    {
     "name": "stdout",
     "output_type": "stream",
     "text": [
      "Training and testing data split with test size 0.2 on State None and not stratified ...\n",
      "Random Forest model initialized with- {'n_jobs': -1}\n",
      "Model trained successfully\n",
      "Training and testing data split with test size 0.2 on State None and not stratified ...\n",
      "Random Forest model initialized with- {'n_jobs': -1}\n",
      "Model trained successfully\n",
      "Training and testing data split with test size 0.2 on State None and not stratified ...\n",
      "Random Forest model initialized with- {'n_jobs': -1}\n",
      "Model trained successfully\n",
      "Training and testing data split with test size 0.2 on State None and not stratified ...\n",
      "Random Forest model initialized with- {'n_jobs': -1}\n",
      "Model trained successfully\n",
      "Training and testing data split with test size 0.2 on State None and not stratified ...\n",
      "Random Forest model initialized with- {'n_jobs': -1}\n",
      "Model trained successfully\n"
     ]
    },
    {
     "name": "stderr",
     "output_type": "stream",
     "text": [
      "  7%|▋         | 2/28 [19:00<4:15:19, 589.22s/it]"
     ]
    },
    {
     "name": "stdout",
     "output_type": "stream",
     "text": [
      "Training and testing data split with test size 0.2 on State None and not stratified ...\n",
      "Random Forest model initialized with- {'n_jobs': -1}\n",
      "Model trained successfully\n",
      "Training and testing data split with test size 0.2 on State None and not stratified ...\n",
      "Random Forest model initialized with- {'n_jobs': -1}\n",
      "Model trained successfully\n",
      "Training and testing data split with test size 0.2 on State None and not stratified ...\n",
      "Random Forest model initialized with- {'n_jobs': -1}\n",
      "Model trained successfully\n",
      "Training and testing data split with test size 0.2 on State None and not stratified ...\n",
      "Random Forest model initialized with- {'n_jobs': -1}\n",
      "Model trained successfully\n",
      "Training and testing data split with test size 0.2 on State None and not stratified ...\n",
      "Random Forest model initialized with- {'n_jobs': -1}\n",
      "Model trained successfully\n"
     ]
    },
    {
     "name": "stderr",
     "output_type": "stream",
     "text": [
      " 11%|█         | 3/28 [30:35<4:25:39, 637.57s/it]"
     ]
    },
    {
     "name": "stdout",
     "output_type": "stream",
     "text": [
      "Training and testing data split with test size 0.2 on State None and not stratified ...\n",
      "Random Forest model initialized with- {'n_jobs': -1}\n",
      "Model trained successfully\n",
      "Training and testing data split with test size 0.2 on State None and not stratified ...\n",
      "Random Forest model initialized with- {'n_jobs': -1}\n",
      "Model trained successfully\n",
      "Training and testing data split with test size 0.2 on State None and not stratified ...\n",
      "Random Forest model initialized with- {'n_jobs': -1}\n",
      "Model trained successfully\n",
      "Training and testing data split with test size 0.2 on State None and not stratified ...\n",
      "Random Forest model initialized with- {'n_jobs': -1}\n",
      "Model trained successfully\n",
      "Training and testing data split with test size 0.2 on State None and not stratified ...\n",
      "Random Forest model initialized with- {'n_jobs': -1}\n",
      "Model trained successfully\n"
     ]
    },
    {
     "name": "stderr",
     "output_type": "stream",
     "text": [
      " 14%|█▍        | 4/28 [42:01<4:22:44, 656.87s/it]"
     ]
    },
    {
     "name": "stdout",
     "output_type": "stream",
     "text": [
      "Training and testing data split with test size 0.2 on State None and not stratified ...\n",
      "Random Forest model initialized with- {'n_jobs': -1}\n",
      "Model trained successfully\n",
      "Training and testing data split with test size 0.2 on State None and not stratified ...\n",
      "Random Forest model initialized with- {'n_jobs': -1}\n",
      "Model trained successfully\n",
      "Training and testing data split with test size 0.2 on State None and not stratified ...\n",
      "Random Forest model initialized with- {'n_jobs': -1}\n",
      "Model trained successfully\n",
      "Training and testing data split with test size 0.2 on State None and not stratified ...\n",
      "Random Forest model initialized with- {'n_jobs': -1}\n",
      "Model trained successfully\n",
      "Training and testing data split with test size 0.2 on State None and not stratified ...\n",
      "Random Forest model initialized with- {'n_jobs': -1}\n",
      "Model trained successfully\n"
     ]
    },
    {
     "name": "stderr",
     "output_type": "stream",
     "text": [
      " 18%|█▊        | 5/28 [53:37<4:17:07, 670.76s/it]"
     ]
    },
    {
     "name": "stdout",
     "output_type": "stream",
     "text": [
      "Training and testing data split with test size 0.2 on State None and not stratified ...\n",
      "Random Forest model initialized with- {'n_jobs': -1}\n",
      "Model trained successfully\n",
      "Training and testing data split with test size 0.2 on State None and not stratified ...\n",
      "Random Forest model initialized with- {'n_jobs': -1}\n",
      "Model trained successfully\n",
      "Training and testing data split with test size 0.2 on State None and not stratified ...\n",
      "Random Forest model initialized with- {'n_jobs': -1}\n",
      "Model trained successfully\n",
      "Training and testing data split with test size 0.2 on State None and not stratified ...\n",
      "Random Forest model initialized with- {'n_jobs': -1}\n",
      "Model trained successfully\n",
      "Training and testing data split with test size 0.2 on State None and not stratified ...\n",
      "Random Forest model initialized with- {'n_jobs': -1}\n",
      "Model trained successfully\n"
     ]
    },
    {
     "name": "stderr",
     "output_type": "stream",
     "text": [
      " 21%|██▏       | 6/28 [1:05:06<4:08:12, 676.94s/it]"
     ]
    },
    {
     "name": "stdout",
     "output_type": "stream",
     "text": [
      "Training and testing data split with test size 0.2 on State None and not stratified ...\n",
      "Random Forest model initialized with- {'n_jobs': -1}\n",
      "Model trained successfully\n",
      "Training and testing data split with test size 0.2 on State None and not stratified ...\n",
      "Random Forest model initialized with- {'n_jobs': -1}\n",
      "Model trained successfully\n",
      "Training and testing data split with test size 0.2 on State None and not stratified ...\n",
      "Random Forest model initialized with- {'n_jobs': -1}\n",
      "Model trained successfully\n",
      "Training and testing data split with test size 0.2 on State None and not stratified ...\n",
      "Random Forest model initialized with- {'n_jobs': -1}\n",
      "Model trained successfully\n",
      "Training and testing data split with test size 0.2 on State None and not stratified ...\n",
      "Random Forest model initialized with- {'n_jobs': -1}\n",
      "Model trained successfully\n"
     ]
    },
    {
     "name": "stderr",
     "output_type": "stream",
     "text": [
      " 25%|██▌       | 7/28 [1:16:39<3:58:45, 682.15s/it]"
     ]
    },
    {
     "name": "stdout",
     "output_type": "stream",
     "text": [
      "Training and testing data split with test size 0.2 on State None and not stratified ...\n",
      "Random Forest model initialized with- {'n_jobs': -1}\n",
      "Model trained successfully\n",
      "Training and testing data split with test size 0.2 on State None and not stratified ...\n",
      "Random Forest model initialized with- {'n_jobs': -1}\n",
      "Model trained successfully\n",
      "Training and testing data split with test size 0.2 on State None and not stratified ...\n",
      "Random Forest model initialized with- {'n_jobs': -1}\n",
      "Model trained successfully\n",
      "Training and testing data split with test size 0.2 on State None and not stratified ...\n",
      "Random Forest model initialized with- {'n_jobs': -1}\n",
      "Model trained successfully\n",
      "Training and testing data split with test size 0.2 on State None and not stratified ...\n",
      "Random Forest model initialized with- {'n_jobs': -1}\n",
      "Model trained successfully\n"
     ]
    },
    {
     "name": "stderr",
     "output_type": "stream",
     "text": [
      " 29%|██▊       | 8/28 [1:28:13<3:48:38, 685.92s/it]"
     ]
    },
    {
     "name": "stdout",
     "output_type": "stream",
     "text": [
      "Training and testing data split with test size 0.2 on State None and not stratified ...\n",
      "Random Forest model initialized with- {'n_jobs': -1}\n",
      "Model trained successfully\n",
      "Training and testing data split with test size 0.2 on State None and not stratified ...\n",
      "Random Forest model initialized with- {'n_jobs': -1}\n",
      "Model trained successfully\n",
      "Training and testing data split with test size 0.2 on State None and not stratified ...\n",
      "Random Forest model initialized with- {'n_jobs': -1}\n",
      "Model trained successfully\n",
      "Training and testing data split with test size 0.2 on State None and not stratified ...\n",
      "Random Forest model initialized with- {'n_jobs': -1}\n",
      "Model trained successfully\n",
      "Training and testing data split with test size 0.2 on State None and not stratified ...\n",
      "Random Forest model initialized with- {'n_jobs': -1}\n",
      "Model trained successfully\n"
     ]
    },
    {
     "name": "stderr",
     "output_type": "stream",
     "text": [
      " 32%|███▏      | 9/28 [1:39:54<3:38:43, 690.72s/it]"
     ]
    },
    {
     "name": "stdout",
     "output_type": "stream",
     "text": [
      "Training and testing data split with test size 0.2 on State None and not stratified ...\n",
      "Random Forest model initialized with- {'n_jobs': -1}\n",
      "Model trained successfully\n",
      "Training and testing data split with test size 0.2 on State None and not stratified ...\n",
      "Random Forest model initialized with- {'n_jobs': -1}\n",
      "Model trained successfully\n",
      "Training and testing data split with test size 0.2 on State None and not stratified ...\n",
      "Random Forest model initialized with- {'n_jobs': -1}\n",
      "Model trained successfully\n",
      "Training and testing data split with test size 0.2 on State None and not stratified ...\n",
      "Random Forest model initialized with- {'n_jobs': -1}\n",
      "Model trained successfully\n",
      "Training and testing data split with test size 0.2 on State None and not stratified ...\n",
      "Random Forest model initialized with- {'n_jobs': -1}\n",
      "Model trained successfully\n"
     ]
    },
    {
     "name": "stderr",
     "output_type": "stream",
     "text": [
      " 36%|███▌      | 10/28 [1:51:27<3:27:23, 691.31s/it]"
     ]
    },
    {
     "name": "stdout",
     "output_type": "stream",
     "text": [
      "Training and testing data split with test size 0.2 on State None and not stratified ...\n",
      "Random Forest model initialized with- {'n_jobs': -1}\n",
      "Model trained successfully\n",
      "Training and testing data split with test size 0.2 on State None and not stratified ...\n",
      "Random Forest model initialized with- {'n_jobs': -1}\n",
      "Model trained successfully\n",
      "Training and testing data split with test size 0.2 on State None and not stratified ...\n",
      "Random Forest model initialized with- {'n_jobs': -1}\n",
      "Model trained successfully\n",
      "Training and testing data split with test size 0.2 on State None and not stratified ...\n",
      "Random Forest model initialized with- {'n_jobs': -1}\n",
      "Model trained successfully\n",
      "Training and testing data split with test size 0.2 on State None and not stratified ...\n",
      "Random Forest model initialized with- {'n_jobs': -1}\n",
      "Model trained successfully\n"
     ]
    },
    {
     "name": "stderr",
     "output_type": "stream",
     "text": [
      " 39%|███▉      | 11/28 [2:03:04<3:16:23, 693.15s/it]"
     ]
    },
    {
     "name": "stdout",
     "output_type": "stream",
     "text": [
      "Training and testing data split with test size 0.2 on State None and not stratified ...\n",
      "Random Forest model initialized with- {'n_jobs': -1}\n",
      "Model trained successfully\n",
      "Training and testing data split with test size 0.2 on State None and not stratified ...\n",
      "Random Forest model initialized with- {'n_jobs': -1}\n",
      "Model trained successfully\n",
      "Training and testing data split with test size 0.2 on State None and not stratified ...\n",
      "Random Forest model initialized with- {'n_jobs': -1}\n",
      "Model trained successfully\n",
      "Training and testing data split with test size 0.2 on State None and not stratified ...\n",
      "Random Forest model initialized with- {'n_jobs': -1}\n",
      "Model trained successfully\n",
      "Training and testing data split with test size 0.2 on State None and not stratified ...\n",
      "Random Forest model initialized with- {'n_jobs': -1}\n",
      "Model trained successfully\n"
     ]
    },
    {
     "name": "stderr",
     "output_type": "stream",
     "text": [
      " 43%|████▎     | 12/28 [2:14:38<3:04:52, 693.30s/it]"
     ]
    },
    {
     "name": "stdout",
     "output_type": "stream",
     "text": [
      "Training and testing data split with test size 0.2 on State None and not stratified ...\n",
      "Random Forest model initialized with- {'n_jobs': -1}\n",
      "Model trained successfully\n",
      "Training and testing data split with test size 0.2 on State None and not stratified ...\n",
      "Random Forest model initialized with- {'n_jobs': -1}\n",
      "Model trained successfully\n",
      "Training and testing data split with test size 0.2 on State None and not stratified ...\n",
      "Random Forest model initialized with- {'n_jobs': -1}\n",
      "Model trained successfully\n",
      "Training and testing data split with test size 0.2 on State None and not stratified ...\n",
      "Random Forest model initialized with- {'n_jobs': -1}\n",
      "Model trained successfully\n",
      "Training and testing data split with test size 0.2 on State None and not stratified ...\n",
      "Random Forest model initialized with- {'n_jobs': -1}\n",
      "Model trained successfully\n"
     ]
    },
    {
     "name": "stderr",
     "output_type": "stream",
     "text": [
      " 46%|████▋     | 13/28 [2:26:17<2:53:45, 695.06s/it]"
     ]
    },
    {
     "name": "stdout",
     "output_type": "stream",
     "text": [
      "Training and testing data split with test size 0.2 on State None and not stratified ...\n",
      "Random Forest model initialized with- {'n_jobs': -1}\n",
      "Model trained successfully\n",
      "Training and testing data split with test size 0.2 on State None and not stratified ...\n",
      "Random Forest model initialized with- {'n_jobs': -1}\n",
      "Model trained successfully\n",
      "Training and testing data split with test size 0.2 on State None and not stratified ...\n",
      "Random Forest model initialized with- {'n_jobs': -1}\n",
      "Model trained successfully\n",
      "Training and testing data split with test size 0.2 on State None and not stratified ...\n",
      "Random Forest model initialized with- {'n_jobs': -1}\n",
      "Model trained successfully\n",
      "Training and testing data split with test size 0.2 on State None and not stratified ...\n",
      "Random Forest model initialized with- {'n_jobs': -1}\n",
      "Model trained successfully\n"
     ]
    },
    {
     "name": "stderr",
     "output_type": "stream",
     "text": [
      " 50%|█████     | 14/28 [2:38:16<2:43:54, 702.43s/it]"
     ]
    },
    {
     "name": "stdout",
     "output_type": "stream",
     "text": [
      "Training and testing data split with test size 0.2 on State None and not stratified ...\n",
      "Random Forest model initialized with- {'n_jobs': -1}\n",
      "Model trained successfully\n",
      "Training and testing data split with test size 0.2 on State None and not stratified ...\n",
      "Random Forest model initialized with- {'n_jobs': -1}\n",
      "Model trained successfully\n",
      "Training and testing data split with test size 0.2 on State None and not stratified ...\n",
      "Random Forest model initialized with- {'n_jobs': -1}\n",
      "Model trained successfully\n",
      "Training and testing data split with test size 0.2 on State None and not stratified ...\n",
      "Random Forest model initialized with- {'n_jobs': -1}\n",
      "Model trained successfully\n",
      "Training and testing data split with test size 0.2 on State None and not stratified ...\n",
      "Random Forest model initialized with- {'n_jobs': -1}\n",
      "Model trained successfully\n"
     ]
    },
    {
     "name": "stderr",
     "output_type": "stream",
     "text": [
      " 54%|█████▎    | 15/28 [2:50:19<2:33:32, 708.69s/it]"
     ]
    },
    {
     "name": "stdout",
     "output_type": "stream",
     "text": [
      "Training and testing data split with test size 0.2 on State None and not stratified ...\n",
      "Random Forest model initialized with- {'n_jobs': -1}\n",
      "Model trained successfully\n",
      "Training and testing data split with test size 0.2 on State None and not stratified ...\n",
      "Random Forest model initialized with- {'n_jobs': -1}\n",
      "Model trained successfully\n",
      "Training and testing data split with test size 0.2 on State None and not stratified ...\n",
      "Random Forest model initialized with- {'n_jobs': -1}\n",
      "Model trained successfully\n",
      "Training and testing data split with test size 0.2 on State None and not stratified ...\n",
      "Random Forest model initialized with- {'n_jobs': -1}\n",
      "Model trained successfully\n",
      "Training and testing data split with test size 0.2 on State None and not stratified ...\n",
      "Random Forest model initialized with- {'n_jobs': -1}\n",
      "Model trained successfully\n"
     ]
    },
    {
     "name": "stderr",
     "output_type": "stream",
     "text": [
      " 57%|█████▋    | 16/28 [3:02:28<2:22:57, 714.82s/it]"
     ]
    },
    {
     "name": "stdout",
     "output_type": "stream",
     "text": [
      "Training and testing data split with test size 0.2 on State None and not stratified ...\n",
      "Random Forest model initialized with- {'n_jobs': -1}\n",
      "Model trained successfully\n",
      "Training and testing data split with test size 0.2 on State None and not stratified ...\n",
      "Random Forest model initialized with- {'n_jobs': -1}\n",
      "Model trained successfully\n",
      "Training and testing data split with test size 0.2 on State None and not stratified ...\n",
      "Random Forest model initialized with- {'n_jobs': -1}\n",
      "Model trained successfully\n",
      "Training and testing data split with test size 0.2 on State None and not stratified ...\n",
      "Random Forest model initialized with- {'n_jobs': -1}\n",
      "Model trained successfully\n",
      "Training and testing data split with test size 0.2 on State None and not stratified ...\n",
      "Random Forest model initialized with- {'n_jobs': -1}\n",
      "Model trained successfully\n"
     ]
    },
    {
     "name": "stderr",
     "output_type": "stream",
     "text": [
      " 61%|██████    | 17/28 [3:14:41<2:12:03, 720.30s/it]"
     ]
    },
    {
     "name": "stdout",
     "output_type": "stream",
     "text": [
      "Training and testing data split with test size 0.2 on State None and not stratified ...\n",
      "Random Forest model initialized with- {'n_jobs': -1}\n",
      "Model trained successfully\n",
      "Training and testing data split with test size 0.2 on State None and not stratified ...\n",
      "Random Forest model initialized with- {'n_jobs': -1}\n",
      "Model trained successfully\n",
      "Training and testing data split with test size 0.2 on State None and not stratified ...\n",
      "Random Forest model initialized with- {'n_jobs': -1}\n",
      "Model trained successfully\n",
      "Training and testing data split with test size 0.2 on State None and not stratified ...\n",
      "Random Forest model initialized with- {'n_jobs': -1}\n",
      "Model trained successfully\n",
      "Training and testing data split with test size 0.2 on State None and not stratified ...\n",
      "Random Forest model initialized with- {'n_jobs': -1}\n",
      "Model trained successfully\n"
     ]
    },
    {
     "name": "stderr",
     "output_type": "stream",
     "text": [
      " 64%|██████▍   | 18/28 [3:26:49<2:00:24, 722.48s/it]"
     ]
    },
    {
     "name": "stdout",
     "output_type": "stream",
     "text": [
      "Training and testing data split with test size 0.2 on State None and not stratified ...\n",
      "Random Forest model initialized with- {'n_jobs': -1}\n",
      "Model trained successfully\n",
      "Training and testing data split with test size 0.2 on State None and not stratified ...\n",
      "Random Forest model initialized with- {'n_jobs': -1}\n",
      "Model trained successfully\n",
      "Training and testing data split with test size 0.2 on State None and not stratified ...\n",
      "Random Forest model initialized with- {'n_jobs': -1}\n",
      "Model trained successfully\n",
      "Training and testing data split with test size 0.2 on State None and not stratified ...\n",
      "Random Forest model initialized with- {'n_jobs': -1}\n",
      "Model trained successfully\n",
      "Training and testing data split with test size 0.2 on State None and not stratified ...\n",
      "Random Forest model initialized with- {'n_jobs': -1}\n",
      "Model trained successfully\n"
     ]
    },
    {
     "name": "stderr",
     "output_type": "stream",
     "text": [
      " 68%|██████▊   | 19/28 [3:38:57<1:48:36, 724.09s/it]"
     ]
    },
    {
     "name": "stdout",
     "output_type": "stream",
     "text": [
      "Training and testing data split with test size 0.2 on State None and not stratified ...\n",
      "Random Forest model initialized with- {'n_jobs': -1}\n",
      "Model trained successfully\n",
      "Training and testing data split with test size 0.2 on State None and not stratified ...\n",
      "Random Forest model initialized with- {'n_jobs': -1}\n",
      "Model trained successfully\n",
      "Training and testing data split with test size 0.2 on State None and not stratified ...\n",
      "Random Forest model initialized with- {'n_jobs': -1}\n",
      "Model trained successfully\n",
      "Training and testing data split with test size 0.2 on State None and not stratified ...\n",
      "Random Forest model initialized with- {'n_jobs': -1}\n",
      "Model trained successfully\n",
      "Training and testing data split with test size 0.2 on State None and not stratified ...\n",
      "Random Forest model initialized with- {'n_jobs': -1}\n",
      "Model trained successfully\n"
     ]
    },
    {
     "name": "stderr",
     "output_type": "stream",
     "text": [
      " 71%|███████▏  | 20/28 [3:51:08<1:36:50, 726.27s/it]"
     ]
    },
    {
     "name": "stdout",
     "output_type": "stream",
     "text": [
      "Training and testing data split with test size 0.2 on State None and not stratified ...\n",
      "Random Forest model initialized with- {'n_jobs': -1}\n",
      "Model trained successfully\n",
      "Training and testing data split with test size 0.2 on State None and not stratified ...\n",
      "Random Forest model initialized with- {'n_jobs': -1}\n",
      "Model trained successfully\n",
      "Training and testing data split with test size 0.2 on State None and not stratified ...\n",
      "Random Forest model initialized with- {'n_jobs': -1}\n",
      "Model trained successfully\n",
      "Training and testing data split with test size 0.2 on State None and not stratified ...\n",
      "Random Forest model initialized with- {'n_jobs': -1}\n",
      "Model trained successfully\n",
      "Training and testing data split with test size 0.2 on State None and not stratified ...\n",
      "Random Forest model initialized with- {'n_jobs': -1}\n",
      "Model trained successfully\n"
     ]
    },
    {
     "name": "stderr",
     "output_type": "stream",
     "text": [
      " 75%|███████▌  | 21/28 [4:03:25<1:25:05, 729.39s/it]"
     ]
    },
    {
     "name": "stdout",
     "output_type": "stream",
     "text": [
      "Training and testing data split with test size 0.2 on State None and not stratified ...\n",
      "Random Forest model initialized with- {'n_jobs': -1}\n",
      "Model trained successfully\n",
      "Training and testing data split with test size 0.2 on State None and not stratified ...\n",
      "Random Forest model initialized with- {'n_jobs': -1}\n",
      "Model trained successfully\n",
      "Training and testing data split with test size 0.2 on State None and not stratified ...\n",
      "Random Forest model initialized with- {'n_jobs': -1}\n",
      "Model trained successfully\n",
      "Training and testing data split with test size 0.2 on State None and not stratified ...\n",
      "Random Forest model initialized with- {'n_jobs': -1}\n",
      "Model trained successfully\n",
      "Training and testing data split with test size 0.2 on State None and not stratified ...\n",
      "Random Forest model initialized with- {'n_jobs': -1}\n",
      "Model trained successfully\n"
     ]
    },
    {
     "name": "stderr",
     "output_type": "stream",
     "text": [
      " 79%|███████▊  | 22/28 [4:15:44<1:13:13, 732.31s/it]"
     ]
    },
    {
     "name": "stdout",
     "output_type": "stream",
     "text": [
      "Training and testing data split with test size 0.2 on State None and not stratified ...\n",
      "Random Forest model initialized with- {'n_jobs': -1}\n",
      "Model trained successfully\n",
      "Training and testing data split with test size 0.2 on State None and not stratified ...\n",
      "Random Forest model initialized with- {'n_jobs': -1}\n",
      "Model trained successfully\n",
      "Training and testing data split with test size 0.2 on State None and not stratified ...\n",
      "Random Forest model initialized with- {'n_jobs': -1}\n",
      "Model trained successfully\n",
      "Training and testing data split with test size 0.2 on State None and not stratified ...\n",
      "Random Forest model initialized with- {'n_jobs': -1}\n",
      "Model trained successfully\n",
      "Training and testing data split with test size 0.2 on State None and not stratified ...\n",
      "Random Forest model initialized with- {'n_jobs': -1}\n",
      "Model trained successfully\n"
     ]
    },
    {
     "name": "stderr",
     "output_type": "stream",
     "text": [
      " 82%|████████▏ | 23/28 [4:28:03<1:01:12, 734.43s/it]"
     ]
    },
    {
     "name": "stdout",
     "output_type": "stream",
     "text": [
      "Training and testing data split with test size 0.2 on State None and not stratified ...\n",
      "Random Forest model initialized with- {'n_jobs': -1}\n",
      "Model trained successfully\n",
      "Training and testing data split with test size 0.2 on State None and not stratified ...\n",
      "Random Forest model initialized with- {'n_jobs': -1}\n",
      "Model trained successfully\n",
      "Training and testing data split with test size 0.2 on State None and not stratified ...\n",
      "Random Forest model initialized with- {'n_jobs': -1}\n",
      "Model trained successfully\n",
      "Training and testing data split with test size 0.2 on State None and not stratified ...\n",
      "Random Forest model initialized with- {'n_jobs': -1}\n",
      "Model trained successfully\n",
      "Training and testing data split with test size 0.2 on State None and not stratified ...\n",
      "Random Forest model initialized with- {'n_jobs': -1}\n",
      "Model trained successfully\n"
     ]
    },
    {
     "name": "stderr",
     "output_type": "stream",
     "text": [
      " 86%|████████▌ | 24/28 [4:40:24<49:05, 736.39s/it]  "
     ]
    },
    {
     "name": "stdout",
     "output_type": "stream",
     "text": [
      "Training and testing data split with test size 0.2 on State None and not stratified ...\n",
      "Random Forest model initialized with- {'n_jobs': -1}\n",
      "Model trained successfully\n",
      "Training and testing data split with test size 0.2 on State None and not stratified ...\n",
      "Random Forest model initialized with- {'n_jobs': -1}\n",
      "Model trained successfully\n",
      "Training and testing data split with test size 0.2 on State None and not stratified ...\n",
      "Random Forest model initialized with- {'n_jobs': -1}\n",
      "Model trained successfully\n",
      "Training and testing data split with test size 0.2 on State None and not stratified ...\n",
      "Random Forest model initialized with- {'n_jobs': -1}\n",
      "Model trained successfully\n",
      "Training and testing data split with test size 0.2 on State None and not stratified ...\n",
      "Random Forest model initialized with- {'n_jobs': -1}\n",
      "Model trained successfully\n"
     ]
    },
    {
     "name": "stderr",
     "output_type": "stream",
     "text": [
      " 89%|████████▉ | 25/28 [4:52:49<36:56, 738.78s/it]"
     ]
    },
    {
     "name": "stdout",
     "output_type": "stream",
     "text": [
      "Training and testing data split with test size 0.2 on State None and not stratified ...\n",
      "Random Forest model initialized with- {'n_jobs': -1}\n",
      "Model trained successfully\n",
      "Training and testing data split with test size 0.2 on State None and not stratified ...\n",
      "Random Forest model initialized with- {'n_jobs': -1}\n",
      "Model trained successfully\n",
      "Training and testing data split with test size 0.2 on State None and not stratified ...\n",
      "Random Forest model initialized with- {'n_jobs': -1}\n",
      "Model trained successfully\n",
      "Training and testing data split with test size 0.2 on State None and not stratified ...\n",
      "Random Forest model initialized with- {'n_jobs': -1}\n",
      "Model trained successfully\n",
      "Training and testing data split with test size 0.2 on State None and not stratified ...\n",
      "Random Forest model initialized with- {'n_jobs': -1}\n",
      "Model trained successfully\n"
     ]
    },
    {
     "name": "stderr",
     "output_type": "stream",
     "text": [
      " 93%|█████████▎| 26/28 [5:05:17<24:43, 741.64s/it]"
     ]
    },
    {
     "name": "stdout",
     "output_type": "stream",
     "text": [
      "Training and testing data split with test size 0.2 on State None and not stratified ...\n",
      "Random Forest model initialized with- {'n_jobs': -1}\n",
      "Model trained successfully\n",
      "Training and testing data split with test size 0.2 on State None and not stratified ...\n",
      "Random Forest model initialized with- {'n_jobs': -1}\n",
      "Model trained successfully\n",
      "Training and testing data split with test size 0.2 on State None and not stratified ...\n",
      "Random Forest model initialized with- {'n_jobs': -1}\n",
      "Model trained successfully\n",
      "Training and testing data split with test size 0.2 on State None and not stratified ...\n",
      "Random Forest model initialized with- {'n_jobs': -1}\n",
      "Model trained successfully\n",
      "Training and testing data split with test size 0.2 on State None and not stratified ...\n",
      "Random Forest model initialized with- {'n_jobs': -1}\n",
      "Model trained successfully\n"
     ]
    },
    {
     "name": "stderr",
     "output_type": "stream",
     "text": [
      " 96%|█████████▋| 27/28 [5:17:51<12:25, 745.27s/it]"
     ]
    },
    {
     "name": "stdout",
     "output_type": "stream",
     "text": [
      "Training and testing data split with test size 0.2 on State None and not stratified ...\n",
      "Random Forest model initialized with- {'n_jobs': -1}\n",
      "Model trained successfully\n",
      "Training and testing data split with test size 0.2 on State None and not stratified ...\n",
      "Random Forest model initialized with- {'n_jobs': -1}\n",
      "Model trained successfully\n",
      "Training and testing data split with test size 0.2 on State None and not stratified ...\n",
      "Random Forest model initialized with- {'n_jobs': -1}\n",
      "Model trained successfully\n",
      "Training and testing data split with test size 0.2 on State None and not stratified ...\n",
      "Random Forest model initialized with- {'n_jobs': -1}\n",
      "Model trained successfully\n",
      "Training and testing data split with test size 0.2 on State None and not stratified ...\n",
      "Random Forest model initialized with- {'n_jobs': -1}\n",
      "Model trained successfully\n"
     ]
    },
    {
     "name": "stderr",
     "output_type": "stream",
     "text": [
      "100%|██████████| 28/28 [5:30:26<00:00, 708.10s/it]\n"
     ]
    }
   ],
   "source": [
    "results_AADT_perturb = []\n",
    "\n",
    "for response_var in RESPONSE_VARS:\n",
    "\n",
    "    predictor.response_var = response_var\n",
    "    predictor.subset_train_data()\n",
    "\n",
    "    for error in tqdm.tqdm(ERROR_SCOPE):\n",
    "\n",
    "        for run in range(5):\n",
    "            \n",
    "            predictor.split_data(RF_PREDICTOR_VARS, state_fips= None, test_size=0.2)\n",
    "            predictor.initialize_model('Random Forest', n_jobs = -1)\n",
    "\n",
    "            # perturb total AADT\n",
    "            predictor.X_train['AADT'] = predictor.X_train['AADT'] * (1 +  np.random.normal(-error, error, predictor.X_train.shape[0]))\n",
    "            predictor.X_test['AADT'] = predictor.X_test['AADT'] * (1 +  np.random.normal(-error, error, predictor.X_test.shape[0]))\n",
    "\n",
    "            predictor.fit_model()\n",
    "\n",
    "            y_pred = predictor.model.predict(predictor.X_test)\n",
    "\n",
    "            r2 = r2_score(predictor.y_test, y_pred)\n",
    "            mse = mean_squared_error(predictor.y_test, y_pred)\n",
    "            mae = mean_absolute_error(predictor.y_test, y_pred)\n",
    "\n",
    "            results_AADT_perturb.append({\n",
    "                'response_var': response_var,\n",
    "                'error': error,\n",
    "                'r2': r2,\n",
    "                'rmse': np.sqrt(mse),\n",
    "                'mae': mae,\n",
    "                'run': run\n",
    "            })"
   ]
  },
  {
   "cell_type": "code",
   "execution_count": 6,
   "metadata": {},
   "outputs": [],
   "source": [
    "# plot r2 over errors\n",
    "df_Y = pd.DataFrame(results_AADT_perturb)"
   ]
  },
  {
   "cell_type": "code",
   "execution_count": 7,
   "metadata": {},
   "outputs": [],
   "source": [
    "# save the runs\n",
    "df_Y.to_csv('total_aadt_senstivity.csv')"
   ]
  },
  {
   "cell_type": "code",
   "execution_count": 8,
   "metadata": {},
   "outputs": [
    {
     "data": {
      "text/plain": [
       "<Axes: xlabel='error', ylabel='rmse'>"
      ]
     },
     "execution_count": 8,
     "metadata": {},
     "output_type": "execute_result"
    },
    {
     "data": {
      "image/png": "[encoded data removed]",
      "text/plain": [
       "<Figure size 1000x600 with 2 Axes>"
      ]
     },
     "metadata": {},
     "output_type": "display_data"
    }
   ],
   "source": [
    "fig, ax = plt.subplots(1, 2, figsize = (10, 6))\n",
    "\n",
    "sns.lineplot(data = df_Y, x = 'error', y = 'r2', hue = 'response_var', ax = ax[0])\n",
    "sns.lineplot(data = df_Y, x = 'error', y = 'rmse', hue = 'response_var', ax = ax[1])"
   ]
  },
  {
   "cell_type": "code",
   "execution_count": null,
   "metadata": {},
   "outputs": [],
   "source": [
    "df_X = pd.DataFrame(results_response_perturb)"
   ]
  },
  {
   "cell_type": "code",
   "execution_count": null,
   "metadata": {},
   "outputs": [],
   "source": [
    "df_Y.to_csv('senstitivity_Y.csv', index = False)\n",
    "df_X.to_csv('senstitivity_X.csv', index = False)"
   ]
  },
  {
   "cell_type": "code",
   "execution_count": null,
   "metadata": {},
   "outputs": [],
   "source": []
  }
 ],
 "metadata": {
  "kernelspec": {
   "display_name": "Python 3",
   "language": "python",
   "name": "python3"
  },
  "language_info": {
   "codemirror_mode": {
    "name": "ipython",
    "version": 3
   },
   "file_extension": ".py",
   "mimetype": "text/x-python",
   "name": "python",
   "nbconvert_exporter": "python",
   "pygments_lexer": "ipython3",
   "version": "3.9.-1"
  }
 },
 "nbformat": 4,
 "nbformat_minor": 2
}
