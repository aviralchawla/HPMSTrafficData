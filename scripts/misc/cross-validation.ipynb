{
 "cells": [
  {
   "cell_type": "code",
   "execution_count": 23,
   "metadata": {},
   "outputs": [],
   "source": [
    "from pathlib import Path\n",
    "import sys\n",
    "parent_dir = str(Path().resolve().parent)\n",
    "sys.path.append(parent_dir)\n",
    "import tqdm\n",
    "import utils.aadt_predictor as ap\n",
    "import numpy as np"
   ]
  },
  {
   "cell_type": "code",
   "execution_count": 16,
   "metadata": {},
   "outputs": [],
   "source": [
    "HPMS_DIR = Path('../../data/processed_data/HPMS')\n",
    "RESPONSE_VARS = ['AADT_MDV', 'AADT_HDV']\n",
    "RF_PREDICTOR_VARS = [\"STATEFP\", \"COUNTYFP\", \"F_SYSTEM\", \"THROUGH_LANES\", \"AADT\"]\n",
    "RANDOM_STATE = 42"
   ]
  },
  {
   "cell_type": "code",
   "execution_count": 17,
   "metadata": {},
   "outputs": [
    {
     "name": "stdout",
     "output_type": "stream",
     "text": [
      "Loading data from ../../data/processed_data/HPMS/hpms_aadt_subset.csv\n"
     ]
    },
    {
     "name": "stderr",
     "output_type": "stream",
     "text": [
      "/Users/aviralchawla/Library/CloudStorage/OneDrive-UniversityofVermont/Work/TRC/HPMSTrafficData/scripts/utils/aadt_predictor.py:37: DtypeWarning: Columns (6) have mixed types. Specify dtype option on import or set low_memory=False.\n",
      "  self.data_full = pd.read_csv(self.data_path)\n"
     ]
    },
    {
     "name": "stdout",
     "output_type": "stream",
     "text": [
      "Full Data loaded successfully: 6598607 rows and 17 columns.\n",
      "Pre-processing data...\n",
      "ERROR: The data could not be subsetted. [None]\n",
      "ERROR: The data could not be loaded. 'NoneType' object has no attribute 'shape'\n"
     ]
    }
   ],
   "source": [
    "predictor = ap.AADTPredictor(HPMS_DIR / 'hpms_aadt_subset.csv', None, random_state = RANDOM_STATE)"
   ]
  },
  {
   "cell_type": "code",
   "execution_count": 40,
   "metadata": {},
   "outputs": [
    {
     "name": "stderr",
     "output_type": "stream",
     "text": [
      "  0%|          | 0/2 [00:00<?, ?it/s]"
     ]
    },
    {
     "name": "stdout",
     "output_type": "stream",
     "text": [
      "Training Data subsetted successfully with AADT_MDV: 4766630 rows and 17 columns.\n",
      "Random Forest model initialized with- {'max_depth': None, 'min_samples_split': 2, 'min_samples_leaf': 1, 'max_features': 1.0, 'random_state': 42}\n",
      "Training and testing data split with test size 1e-10 on State None and not stratified ...\n"
     ]
    },
    {
     "name": "stderr",
     "output_type": "stream",
     "text": [
      " 50%|█████     | 1/2 [13:27<13:27, 807.70s/it]"
     ]
    },
    {
     "name": "stdout",
     "output_type": "stream",
     "text": [
      "Training Data subsetted successfully with AADT_HDV: 4766451 rows and 17 columns.\n",
      "Random Forest model initialized with- {'max_depth': None, 'min_samples_split': 2, 'min_samples_leaf': 1, 'max_features': 1.0, 'random_state': 42}\n",
      "Training and testing data split with test size 1e-10 on State None and not stratified ...\n"
     ]
    },
    {
     "name": "stderr",
     "output_type": "stream",
     "text": [
      "100%|██████████| 2/2 [25:07<00:00, 753.82s/it]\n"
     ]
    }
   ],
   "source": [
    "out_all = []\n",
    "for response_var in tqdm.tqdm(RESPONSE_VARS):\n",
    "    predictor.response_var = response_var\n",
    "    predictor.subset_train_data()\n",
    "    predictor.initialize_model(\"Random Forest\", random_state=RANDOM_STATE)\n",
    "    predictor.split_data(RF_PREDICTOR_VARS, state_fips= None, test_size=1e-10)\n",
    "    out = predictor.cross_validate_model(5)\n",
    "    out_all.append(out)"
   ]
  },
  {
   "cell_type": "code",
   "execution_count": null,
   "metadata": {},
   "outputs": [
    {
     "name": "stdout",
     "output_type": "stream",
     "text": [
      "[{'r2': array([0.99363463, 0.99292024, 0.99268641, 0.99280783, 0.99284854]), 'mae': array([13.13158359, 13.20662944, 13.27853578, 13.24269601, 13.25749951]), 'mse': array([8016.79630897, 9015.45227094, 9372.12413165, 9197.38667888,\n",
      "       9020.69569532])}, {'r2': array([0.9967703 , 0.99688174, 0.99663439, 0.99650894, 0.99666169]), 'mae': array([16.57363605, 16.20049106, 16.75112262, 16.91339954, 16.70918029]), 'mse': array([19219.04712729, 18357.55280339, 19787.80353451, 20545.22936315,\n",
      "       19743.12598721])}]\n"
     ]
    }
   ],
   "source": [
    "for i, response_var in enumerate(RESPONSE_VARS):\n",
    "    print(f\"Response variable: {response_var}\\n\")\n",
    "    print(\"--------------------------------------\\n\")\n",
    "    print(f\"R2 mean: {np.mean(out_all[i]['r2'])}, R2 std: {np.std(out_all[i]['r2'])}\\n\")\n",
    "    print(f\"RMSE mean: {np.mean(np.sqrt(out_all[i]['mse']))}, RMSE std: {np.std(np.sqrt(out_all[i]['mse']))}\\n\")\n",
    "    print(f\"MAE mean: {np.mean(out_all[i]['mae'])}, MAE std: {np.std(out_all[i]['mae'])}\\n\")\n",
    "    print(\"--------------------------------------\\n\")"
   ]
  }
 ],
 "metadata": {
  "kernelspec": {
   "display_name": "hpms",
   "language": "python",
   "name": "python3"
  },
  "language_info": {
   "codemirror_mode": {
    "name": "ipython",
    "version": 3
   },
   "file_extension": ".py",
   "mimetype": "text/x-python",
   "name": "python",
   "nbconvert_exporter": "python",
   "pygments_lexer": "ipython3",
   "version": "3.9.18"
  }
 },
 "nbformat": 4,
 "nbformat_minor": 2
}
