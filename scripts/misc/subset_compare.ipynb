{
 "cells": [
  {
   "cell_type": "code",
   "execution_count": 2,
   "metadata": {},
   "outputs": [],
   "source": [
    "import pandas as pd"
   ]
  },
  {
   "cell_type": "code",
   "execution_count": 5,
   "metadata": {},
   "outputs": [],
   "source": [
    "def get_columns(df):\n",
    "    print(f'Columns: {df.columns}')"
   ]
  },
  {
   "cell_type": "code",
   "execution_count": 6,
   "metadata": {},
   "outputs": [],
   "source": [
    "def get_column_types(df):\n",
    "    for column in df.columns:\n",
    "        print(f\"{column}: {df.dtypes[column]}\")"
   ]
  },
  {
   "cell_type": "code",
   "execution_count": 7,
   "metadata": {},
   "outputs": [],
   "source": [
    "def get_summary_statistics(df):\n",
    "    print(df.describe())"
   ]
  },
  {
   "cell_type": "code",
   "execution_count": 8,
   "metadata": {},
   "outputs": [],
   "source": [
    "def get_specific_statistics(df):\n",
    "    for column in df.columns:\n",
    "        if df[column].dtype in ['float64', 'int64']:\n",
    "            print(f\"{column}:\")\n",
    "            print(f\"Mean: {df[column].mean()}\")\n",
    "            print(f\"Median: {df[column].median()}\")\n",
    "            print(f\"Standard deviation: {df[column].std()}\")\n",
    "            print(f\"Minimum: {df[column].min()}\")\n",
    "            print(f\"Maximum: {df[column].max()}\")\n",
    "            print(f\"NotNa: {df[column].count()}\")\n",
    "        else:\n",
    "            print(f\"{column}:\")\n",
    "            print(f\"Unique: {df[column].unique()}\")\n",
    "            print(f\"Value counts: {df[column].value_counts()}\")"
   ]
  },
  {
   "cell_type": "markdown",
   "metadata": {},
   "source": [
    "## Compare Subset Data"
   ]
  },
  {
   "cell_type": "code",
   "execution_count": 2,
   "metadata": {},
   "outputs": [
    {
     "name": "stderr",
     "output_type": "stream",
     "text": [
      "C:\\Users\\achawla1\\AppData\\Local\\Temp\\ipykernel_3952\\511879785.py:1: DtypeWarning: Columns (6) have mixed types. Specify dtype option on import or set low_memory=False.\n",
      "  df = pd.read_csv('../data/processed_data/HPMS/hpms_aadt_subset.csv')\n"
     ]
    }
   ],
   "source": [
    "df = pd.read_csv('../../data/processed_data/HPMS/hpms_aadt_subset.csv')\n",
    "df_old = pd.read_csv('Z:\\ROAD_AQ\\HPMS Traffic Data\\HPMS\\AADT Subset\\HPMS Dataset\\hpms_aadt_subset.csv')"
   ]
  },
  {
   "cell_type": "code",
   "execution_count": 9,
   "metadata": {},
   "outputs": [
    {
     "name": "stdout",
     "output_type": "stream",
     "text": [
      "Columns: Index(['FID_Link_Cnty_Intxn', 'STATEFP', 'STATENAME', 'COUNTYFP', 'GEOID',\n",
      "       'F_SYSTEM', 'URBAN_CODE', 'URBAN', 'THROUGH_LANES', 'LANE_KMS',\n",
      "       'LANE_MILES', 'VKT', 'VMT', 'AADT', 'AADT_MDV', 'AADT_HDV',\n",
      "       'Shape_Length'],\n",
      "      dtype='object')\n"
     ]
    }
   ],
   "source": [
    "get_columns(df)"
   ]
  },
  {
   "cell_type": "code",
   "execution_count": 10,
   "metadata": {},
   "outputs": [
    {
     "name": "stdout",
     "output_type": "stream",
     "text": [
      "Columns: Index(['FID_Link_Cnty_Intxn', 'STATEFP', 'STATENAME', 'COUNTYFP', 'GEOID',\n",
      "       'F_SYSTEM', 'URBAN_CODE', 'URBAN', 'THROUGH_LANES', 'LANE_KMS',\n",
      "       'LANE_MILES', 'VKT', 'VMT', 'AADT', 'AADT_MDV', 'AADT_HDV',\n",
      "       'Shape_Length', 'VKT_MDV', 'VKT_HDV', 'VKT_LDV', 'URBAN_DESC'],\n",
      "      dtype='object')\n"
     ]
    }
   ],
   "source": [
    "get_columns(df_old)"
   ]
  },
  {
   "cell_type": "code",
   "execution_count": 6,
   "metadata": {},
   "outputs": [
    {
     "name": "stdout",
     "output_type": "stream",
     "text": [
      "FID_Link_Cnty_Intxn - Avg: 3466016.8636427354, Std: 1988834.0455736602, NotNaN: 6598607\n",
      "STATEFP - Avg: 28.798777984504913, Std: 15.630561971381775, NotNaN: 6598607\n",
      "STATENAME - NotNaN: 6590337, NUniq: 50\n",
      "COUNTYFP - Avg: 84.45329233882242, Std: 84.81718272387829, NotNaN: 6598607\n",
      "GEOID - Avg: 28883.231276843733, Std: 15640.170971752907, NotNaN: 6598607\n",
      "F_SYSTEM - Avg: 3.614051571793865, Std: 1.2748453393081955, NotNaN: 6598607\n",
      "URBAN_CODE - NotNaN: 6598607, NUniq: 5\n",
      "URBAN - Avg: 0.4278507569855274, Std: 0.6164608625058396, NotNaN: 6598607\n",
      "THROUGH_LANES - Avg: 2.7395336621805177, Std: 1.3020792812552877, NotNaN: 6598607\n",
      "LANE_KMS - Avg: 0.6082584555608842, Std: 1.6373502642021278, NotNaN: 6598607\n",
      "LANE_MILES - Avg: 0.37795428172030604, Std: 1.0174022857774476, NotNaN: 6598607\n",
      "VKT - Avg: 1889.1909432951877, Std: 4594.914882371885, NotNaN: 6598607\n",
      "VMT - Avg: 1173.8888287993036, Std: 2855.147738688441, NotNaN: 6598607\n",
      "AADT - Avg: 12594.829351103952, Std: 24733.55176050276, NotNaN: 6598607\n",
      "AADT_MDV - Avg: 640.8306755506511, Std: 1127.3432332792065, NotNaN: 4766630\n",
      "AADT_HDV - Avg: 1114.5275197416274, Std: 2429.671731908085, NotNaN: 4766451\n",
      "Shape_Length - Avg: 253.43832673879746, Std: 791.9755261719512, NotNaN: 6598607\n"
     ]
    }
   ],
   "source": [
    "for col in df.columns:\n",
    "    if df[col].dtype in ['float64', 'int64']:\n",
    "        print(f'{col} - Avg: {df[col].mean()}, Std: {df[col].std()}, NotNaN: {df[col].count()}')\n",
    "    else:\n",
    "        print(f'{col} - NotNaN: {df[col].count()}, NUniq: {df[col].nunique()}')"
   ]
  },
  {
   "cell_type": "code",
   "execution_count": 7,
   "metadata": {},
   "outputs": [
    {
     "name": "stdout",
     "output_type": "stream",
     "text": [
      "FID_Link_Cnty_Intxn - Avg: 3465946.741007228, Std: 1987198.488382866, NotNaN: 6598605\n",
      "STATEFP - Avg: 28.798782015289596, Std: 15.630562177236003, NotNaN: 6598605\n",
      "STATENAME - NotNaN: 6590335, NUniq: 50\n",
      "COUNTYFP - Avg: 84.45324913371842, Std: 84.81718843180093, NotNaN: 6598605\n",
      "GEOID - Avg: 28883.235264423314, Std: 15640.171209642785, NotNaN: 6598605\n",
      "F_SYSTEM - Avg: 3.6140513032678876, Std: 1.2748454094937753, NotNaN: 6598605\n",
      "URBAN_CODE - NotNaN: 6598605, NUniq: 5\n",
      "URBAN - Avg: 0.4278510382118645, Std: 0.6164609286986678, NotNaN: 6598605\n",
      "THROUGH_LANES - Avg: 2.739533583234638, Std: 1.3020793543255387, NotNaN: 6598605\n",
      "LANE_KMS - Avg: 0.60825865616463, Std: 1.6373505022973998, NotNaN: 6598605\n",
      "LANE_MILES - Avg: 0.37795440636969474, Std: 1.0174024337230134, NotNaN: 6598605\n",
      "VKT - Avg: 1889.1915324143404, Std: 4594.915493982414, NotNaN: 6598605\n",
      "VMT - Avg: 1173.8891948609737, Std: 2855.1481187256923, NotNaN: 6598605\n",
      "AADT - Avg: 12594.832381389702, Std: 24733.554905563014, NotNaN: 6598605\n",
      "AADT_MDV - Avg: 640.8306623337662, Std: 1127.343240199736, NotNaN: 4766630\n",
      "AADT_HDV - Avg: 1114.527376448431, Std: 2429.671777208949, NotNaN: 4766451\n",
      "Shape_Length - Avg: 253.4384116416277, Std: 791.9756469636237, NotNaN: 6598605\n",
      "VKT_MDV - Avg: 83.75418380378493, Std: 196.8293109119345, NotNaN: 4766630\n",
      "VKT_HDV - Avg: 146.17124605269527, Std: 408.7145257228749, NotNaN: 4766451\n",
      "VKT_LDV - Avg: 1789.3645917136816, Std: 4099.39493189971, NotNaN: 4766139\n",
      "URBAN_DESC - NotNaN: 6598605, NUniq: 3\n"
     ]
    }
   ],
   "source": [
    "for col in df_old.columns:\n",
    "    if df_old[col].dtype in ['float64', 'int64']:\n",
    "        print(f'{col} - Avg: {df_old[col].mean()}, Std: {df_old[col].std()}, NotNaN: {df_old[col].count()}')\n",
    "    else:\n",
    "        print(f'{col} - NotNaN: {df_old[col].count()}, NUniq: {df_old[col].nunique()}')"
   ]
  },
  {
   "cell_type": "markdown",
   "metadata": {},
   "source": [
    "## Compare Imputed Data"
   ]
  },
  {
   "cell_type": "code",
   "execution_count": 3,
   "metadata": {},
   "outputs": [
    {
     "name": "stderr",
     "output_type": "stream",
     "text": [
      "C:\\Users\\achawla1\\AppData\\Local\\Temp\\ipykernel_10896\\4064996386.py:1: DtypeWarning: Columns (6) have mixed types. Specify dtype option on import or set low_memory=False.\n",
      "  df = pd.read_csv('../../data/processed_data/HPMS/hpms_aadt_imputed.csv')\n"
     ]
    }
   ],
   "source": [
    "df = pd.read_csv('../../data/processed_data/HPMS/hpms_aadt_imputed.csv')\n",
    "df_old = pd.read_csv('Z:\\ROAD_AQ\\HPMS Traffic Data\\HPMS\\Imputed AADT\\hpms_aadt_imputed.csv')"
   ]
  },
  {
   "cell_type": "code",
   "execution_count": 11,
   "metadata": {},
   "outputs": [
    {
     "name": "stdout",
     "output_type": "stream",
     "text": [
      "Columns: Index(['FID_Link_Cnty_Intxn', 'STATEFP', 'STATENAME', 'COUNTYFP', 'GEOID',\n",
      "       'F_SYSTEM', 'URBAN_CODE', 'URBAN', 'THROUGH_LANES', 'LANE_KMS',\n",
      "       'LANE_MILES', 'VKT', 'VMT', 'AADT', 'AADT_MDV', 'AADT_HDV',\n",
      "       'Shape_Length'],\n",
      "      dtype='object')\n"
     ]
    }
   ],
   "source": [
    "get_columns(df)"
   ]
  },
  {
   "cell_type": "code",
   "execution_count": 12,
   "metadata": {},
   "outputs": [
    {
     "name": "stdout",
     "output_type": "stream",
     "text": [
      "Columns: Index(['FID_Link_Cnty_Intxn', 'STATEFP', 'STATENAME', 'COUNTYFP', 'GEOID',\n",
      "       'F_SYSTEM', 'URBAN_CODE', 'URBAN', 'THROUGH_LANES', 'LANE_KMS',\n",
      "       'LANE_MILES', 'VKT', 'VMT', 'AADT', 'AADT_MDV', 'AADT_HDV',\n",
      "       'Shape_Length', 'VKT_MDV', 'VKT_HDV', 'VKT_LDV', 'URBAN_DESC'],\n",
      "      dtype='object')\n"
     ]
    }
   ],
   "source": [
    "get_columns(df_old)"
   ]
  },
  {
   "cell_type": "code",
   "execution_count": 13,
   "metadata": {},
   "outputs": [
    {
     "name": "stdout",
     "output_type": "stream",
     "text": [
      "FID_Link_Cnty_Intxn: int64\n",
      "STATEFP: int64\n",
      "STATENAME: object\n",
      "COUNTYFP: int64\n",
      "GEOID: int64\n",
      "F_SYSTEM: int64\n",
      "URBAN_CODE: object\n",
      "URBAN: float64\n",
      "THROUGH_LANES: float64\n",
      "LANE_KMS: float64\n",
      "LANE_MILES: float64\n",
      "VKT: float64\n",
      "VMT: float64\n",
      "AADT: float64\n",
      "AADT_MDV: float64\n",
      "AADT_HDV: float64\n",
      "Shape_Length: float64\n"
     ]
    }
   ],
   "source": [
    "get_column_types(df)"
   ]
  },
  {
   "cell_type": "code",
   "execution_count": 14,
   "metadata": {},
   "outputs": [
    {
     "name": "stdout",
     "output_type": "stream",
     "text": [
      "FID_Link_Cnty_Intxn: int64\n",
      "STATEFP: int64\n",
      "STATENAME: object\n",
      "COUNTYFP: int64\n",
      "GEOID: int64\n",
      "F_SYSTEM: int64\n",
      "URBAN_CODE: object\n",
      "URBAN: float64\n",
      "THROUGH_LANES: float64\n",
      "LANE_KMS: float64\n",
      "LANE_MILES: float64\n",
      "VKT: float64\n",
      "VMT: float64\n",
      "AADT: float64\n",
      "AADT_MDV: float64\n",
      "AADT_HDV: float64\n",
      "Shape_Length: float64\n",
      "VKT_MDV: float64\n",
      "VKT_HDV: float64\n",
      "VKT_LDV: float64\n",
      "URBAN_DESC: object\n"
     ]
    }
   ],
   "source": [
    "get_column_types(df_old)"
   ]
  },
  {
   "cell_type": "code",
   "execution_count": 16,
   "metadata": {},
   "outputs": [
    {
     "name": "stdout",
     "output_type": "stream",
     "text": [
      "FID_Link_Cnty_Intxn:\n",
      "Mean: 3321891.989053012\n",
      "Median: 3348947.5\n",
      "Standard deviation: 2018035.4452556176\n",
      "Minimum: 2\n",
      "Maximum: 6928070\n",
      "NotNa: 5334892\n",
      "STATEFP:\n",
      "Mean: 23.57994126216613\n",
      "Median: 24.0\n",
      "Standard deviation: 12.556701731583688\n",
      "Minimum: 1\n",
      "Maximum: 46\n",
      "NotNa: 5334892\n",
      "STATENAME:\n",
      "Unique: ['Alabama' 'Alaska' 'Arizona' 'Arkansas' 'California' 'Colorado'\n",
      " 'Connecticut' 'Delaware' nan 'Florida' 'Georgia' 'Hawaii' 'Idaho'\n",
      " 'Illinois' 'Indiana' 'Iowa' 'Kansas' 'Kentucky' 'Louisiana' 'Maine'\n",
      " 'Maryland' 'Massachusetts' 'Michigan' 'Minnesota' 'Mississippi'\n",
      " 'Missouri' 'Montana' 'Nebraska' 'Nevada' 'New Hampshire' 'New Jersey'\n",
      " 'New Mexico' 'New York' 'North Carolina' 'North Dakota' 'Ohio' 'Oklahoma'\n",
      " 'Oregon' 'Pennsylvania' 'Rhode Island' 'South Carolina' 'South Dakota']\n",
      "Value counts: STATENAME\n",
      "Pennsylvania      388248\n",
      "California        367941\n",
      "Missouri          316890\n",
      "New York          277705\n",
      "Illinois          234382\n",
      "Georgia           224333\n",
      "Florida           221564\n",
      "Alabama           213672\n",
      "Indiana           207498\n",
      "Michigan          178237\n",
      "Kentucky          171716\n",
      "Kansas            167237\n",
      "Minnesota         155601\n",
      "Ohio              146109\n",
      "Louisiana         140230\n",
      "Iowa              137521\n",
      "North Carolina    134722\n",
      "Colorado          128082\n",
      "Nebraska          123973\n",
      "Massachusetts     119947\n",
      "Oklahoma          116660\n",
      "Arizona           103709\n",
      "New Jersey        102680\n",
      "Arkansas           79164\n",
      "Mississippi        76001\n",
      "Maine              74287\n",
      "Idaho              71371\n",
      "South Carolina     69641\n",
      "Montana            68929\n",
      "Oregon             68117\n",
      "New Mexico         65675\n",
      "North Dakota       57182\n",
      "New Hampshire      53933\n",
      "Nevada             47025\n",
      "Maryland           44510\n",
      "South Dakota       43608\n",
      "Connecticut        42396\n",
      "Alaska             27877\n",
      "Hawaii             22471\n",
      "Delaware           19347\n",
      "Rhode Island       16431\n",
      "Name: count, dtype: int64\n",
      "COUNTYFP:\n",
      "Mean: 75.05172194676106\n",
      "Median: 65.0\n",
      "Standard deviation: 60.37252225860593\n",
      "Minimum: 1\n",
      "Maximum: 510\n",
      "NotNa: 5334892\n",
      "GEOID:\n",
      "Mean: 23654.992984112894\n",
      "Median: 24003.0\n",
      "Standard deviation: 12553.807457179311\n",
      "Minimum: 1001\n",
      "Maximum: 46061\n",
      "NotNa: 5334892\n",
      "F_SYSTEM:\n",
      "Mean: 3.653839665357799\n",
      "Median: 4.0\n",
      "Standard deviation: 1.2659115643283536\n",
      "Minimum: 1\n",
      "Maximum: 6\n",
      "NotNa: 5334892\n",
      "URBAN_CODE:\n",
      "Unique: ['99999'\n",
      " '0          None\\n1          None\\n2          None\\n3          None\\n4          None\\n           ... \\n6928065    None\\n6928066    None\\n6928067    None\\n6928068    None\\n6928069    None\\nName: UACE10, Length: 6928070, dtype: object'\n",
      " '99998' 99999 99998]\n",
      "Value counts: URBAN_CODE\n",
      "99999                                                                                                                                                                                                                                      3356030\n",
      "0          None\\n1          None\\n2          None\\n3          None\\n4          None\\n           ... \\n6928065    None\\n6928066    None\\n6928067    None\\n6928068    None\\n6928069    None\\nName: UACE10, Length: 6928070, dtype: object    1601474\n",
      "99998                                                                                                                                                                                                                                       350912\n",
      "99999                                                                                                                                                                                                                                        25544\n",
      "99998                                                                                                                                                                                                                                          932\n",
      "Name: count, dtype: int64\n",
      "URBAN:\n",
      "Mean: 0.43209159623100146\n",
      "Median: 0.0\n",
      "Standard deviation: 0.6142405642612897\n",
      "Minimum: 0.0\n",
      "Maximum: 2.0\n",
      "NotNa: 5334892\n",
      "THROUGH_LANES:\n",
      "Mean: 2.7093298233591234\n",
      "Median: 2.0\n",
      "Standard deviation: 1.2961383505272253\n",
      "Minimum: 1.0\n",
      "Maximum: 44.0\n",
      "NotNa: 5334892\n",
      "LANE_KMS:\n",
      "Mean: 0.5839956172805912\n",
      "Median: 0.3220130077996347\n",
      "Standard deviation: 1.6221193006317571\n",
      "Minimum: 3.162275822425842e-06\n",
      "Maximum: 178.93348336005835\n",
      "NotNa: 5334892\n",
      "LANE_MILES:\n",
      "Mean: 0.3628780529710186\n",
      "Median: 0.20008960657238894\n",
      "Standard deviation: 1.0079382037847266\n",
      "Minimum: 1.964947097964041e-06\n",
      "Maximum: 111.1841118866186\n",
      "NotNa: 5334892\n",
      "VKT:\n",
      "Mean: 1844.990433481592\n",
      "Median: 567.2281908544305\n",
      "Standard deviation: 4560.201214204352\n",
      "Minimum: 2.253197806098681e-05\n",
      "Maximum: 864048.7952693093\n",
      "NotNa: 5334892\n",
      "VMT:\n",
      "Mean: 1146.4239053189317\n",
      "Median: 352.4592572218436\n",
      "Standard deviation: 2833.577665312292\n",
      "Minimum: 1.4000722071220827e-05\n",
      "Maximum: 536895.0300677228\n",
      "NotNa: 5334892\n",
      "AADT:\n",
      "Mean: 12513.003405317297\n",
      "Median: 4516.0\n",
      "Standard deviation: 24907.570683984188\n",
      "Minimum: 1.0\n",
      "Maximum: 461000.0\n",
      "NotNa: 5334892\n",
      "AADT_MDV:\n",
      "Mean: 514.4222307082225\n",
      "Median: 195.0\n",
      "Standard deviation: 979.8927041290406\n",
      "Minimum: 0.0\n",
      "Maximum: 27035.0\n",
      "NotNa: 5334892\n",
      "AADT_HDV:\n",
      "Mean: 798.3257978018905\n",
      "Median: 141.0\n",
      "Standard deviation: 2028.2084433190764\n",
      "Minimum: 0.0\n",
      "Maximum: 46078.0\n",
      "NotNa: 5334892\n",
      "Shape_Length:\n",
      "Mean: 244.3974407370166\n",
      "Median: 160.09757129724244\n",
      "Standard deviation: 787.4168783730523\n",
      "Minimum: 0.0015811379112129\n",
      "Maximum: 89466.74168002917\n",
      "NotNa: 5334892\n"
     ]
    }
   ],
   "source": [
    "get_specific_statistics(df)"
   ]
  },
  {
   "cell_type": "code",
   "execution_count": 31,
   "metadata": {},
   "outputs": [
    {
     "data": {
      "text/plain": [
       "979.8927041290406"
      ]
     },
     "execution_count": 31,
     "metadata": {},
     "output_type": "execute_result"
    }
   ],
   "source": [
    "df['AADT_MDV'].std()\n"
   ]
  },
  {
   "cell_type": "code",
   "execution_count": 33,
   "metadata": {},
   "outputs": [
    {
     "data": {
      "text/plain": [
       "2028.2084433190764"
      ]
     },
     "execution_count": 33,
     "metadata": {},
     "output_type": "execute_result"
    }
   ],
   "source": [
    "df['AADT_HDV'].std()"
   ]
  },
  {
   "cell_type": "code",
   "execution_count": 32,
   "metadata": {},
   "outputs": [
    {
     "data": {
      "text/plain": [
       "992.0278600728428"
      ]
     },
     "execution_count": 32,
     "metadata": {},
     "output_type": "execute_result"
    }
   ],
   "source": [
    "df_old['AADT_MDV'].std()"
   ]
  },
  {
   "cell_type": "code",
   "execution_count": 34,
   "metadata": {},
   "outputs": [
    {
     "data": {
      "text/plain": [
       "2126.2203774830787"
      ]
     },
     "execution_count": 34,
     "metadata": {},
     "output_type": "execute_result"
    }
   ],
   "source": [
    "df_old['AADT_HDV'].std()"
   ]
  }
 ],
 "metadata": {
  "kernelspec": {
   "display_name": "hpms",
   "language": "python",
   "name": "python3"
  },
  "language_info": {
   "codemirror_mode": {
    "name": "ipython",
    "version": 3
   },
   "file_extension": ".py",
   "mimetype": "text/x-python",
   "name": "python",
   "nbconvert_exporter": "python",
   "pygments_lexer": "ipython3",
   "version": "3.9.18"
  }
 },
 "nbformat": 4,
 "nbformat_minor": 2
}
