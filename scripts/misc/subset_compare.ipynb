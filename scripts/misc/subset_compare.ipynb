{
 "cells": [
  {
   "cell_type": "code",
   "execution_count": 1,
   "metadata": {},
   "outputs": [],
   "source": [
    "import pandas as pd"
   ]
  },
  {
   "cell_type": "code",
   "execution_count": 2,
   "metadata": {},
   "outputs": [
    {
     "name": "stderr",
     "output_type": "stream",
     "text": [
      "C:\\Users\\achawla1\\AppData\\Local\\Temp\\ipykernel_3952\\511879785.py:1: DtypeWarning: Columns (6) have mixed types. Specify dtype option on import or set low_memory=False.\n",
      "  df = pd.read_csv('../data/processed_data/HPMS/hpms_aadt_subset.csv')\n"
     ]
    }
   ],
   "source": [
    "df = pd.read_csv('../data/processed_data/HPMS/hpms_aadt_subset.csv')"
   ]
  },
  {
   "cell_type": "code",
   "execution_count": 3,
   "metadata": {},
   "outputs": [
    {
     "name": "stderr",
     "output_type": "stream",
     "text": [
      "C:\\Users\\achawla1\\AppData\\Local\\Temp\\ipykernel_3952\\3522953806.py:1: DtypeWarning: Columns (6) have mixed types. Specify dtype option on import or set low_memory=False.\n",
      "  df_old = pd.read_csv('Z:\\ROAD_AQ\\HPMS Traffic Data\\HPMS\\AADT Subset\\HPMS Dataset\\hpms_aadt_subset.csv')\n"
     ]
    }
   ],
   "source": [
    "df_old = pd.read_csv('Z:\\ROAD_AQ\\HPMS Traffic Data\\HPMS\\AADT Subset\\HPMS Dataset\\hpms_aadt_subset.csv')"
   ]
  },
  {
   "cell_type": "code",
   "execution_count": 4,
   "metadata": {},
   "outputs": [
    {
     "name": "stdout",
     "output_type": "stream",
     "text": [
      "FID_Link_Cnty_Intxn - int64\n",
      "STATEFP - int64\n",
      "STATENAME - object\n",
      "COUNTYFP - int64\n",
      "GEOID - int64\n",
      "F_SYSTEM - int64\n",
      "URBAN_CODE - object\n",
      "URBAN - float64\n",
      "THROUGH_LANES - float64\n",
      "LANE_KMS - float64\n",
      "LANE_MILES - float64\n",
      "VKT - float64\n",
      "VMT - float64\n",
      "AADT - float64\n",
      "AADT_MDV - float64\n",
      "AADT_HDV - float64\n",
      "Shape_Length - float64\n"
     ]
    }
   ],
   "source": [
    "for col in df.columns:\n",
    "    print(f'{col} - {df[col].dtype}')"
   ]
  },
  {
   "cell_type": "code",
   "execution_count": 5,
   "metadata": {},
   "outputs": [
    {
     "name": "stdout",
     "output_type": "stream",
     "text": [
      "FID_Link_Cnty_Intxn - int64\n",
      "STATEFP - int64\n",
      "STATENAME - object\n",
      "COUNTYFP - int64\n",
      "GEOID - int64\n",
      "F_SYSTEM - int64\n",
      "URBAN_CODE - object\n",
      "URBAN - float64\n",
      "THROUGH_LANES - float64\n",
      "LANE_KMS - float64\n",
      "LANE_MILES - float64\n",
      "VKT - float64\n",
      "VMT - float64\n",
      "AADT - float64\n",
      "AADT_MDV - float64\n",
      "AADT_HDV - float64\n",
      "Shape_Length - float64\n",
      "VKT_MDV - float64\n",
      "VKT_HDV - float64\n",
      "VKT_LDV - float64\n",
      "URBAN_DESC - object\n"
     ]
    }
   ],
   "source": [
    "for col in df_old.columns:\n",
    "    print(f'{col} - {df_old[col].dtype}')"
   ]
  },
  {
   "cell_type": "code",
   "execution_count": 6,
   "metadata": {},
   "outputs": [
    {
     "name": "stdout",
     "output_type": "stream",
     "text": [
      "FID_Link_Cnty_Intxn - Avg: 3466016.8636427354, Std: 1988834.0455736602, NotNaN: 6598607\n",
      "STATEFP - Avg: 28.798777984504913, Std: 15.630561971381775, NotNaN: 6598607\n",
      "STATENAME - NotNaN: 6590337, NUniq: 50\n",
      "COUNTYFP - Avg: 84.45329233882242, Std: 84.81718272387829, NotNaN: 6598607\n",
      "GEOID - Avg: 28883.231276843733, Std: 15640.170971752907, NotNaN: 6598607\n",
      "F_SYSTEM - Avg: 3.614051571793865, Std: 1.2748453393081955, NotNaN: 6598607\n",
      "URBAN_CODE - NotNaN: 6598607, NUniq: 5\n",
      "URBAN - Avg: 0.4278507569855274, Std: 0.6164608625058396, NotNaN: 6598607\n",
      "THROUGH_LANES - Avg: 2.7395336621805177, Std: 1.3020792812552877, NotNaN: 6598607\n",
      "LANE_KMS - Avg: 0.6082584555608842, Std: 1.6373502642021278, NotNaN: 6598607\n",
      "LANE_MILES - Avg: 0.37795428172030604, Std: 1.0174022857774476, NotNaN: 6598607\n",
      "VKT - Avg: 1889.1909432951877, Std: 4594.914882371885, NotNaN: 6598607\n",
      "VMT - Avg: 1173.8888287993036, Std: 2855.147738688441, NotNaN: 6598607\n",
      "AADT - Avg: 12594.829351103952, Std: 24733.55176050276, NotNaN: 6598607\n",
      "AADT_MDV - Avg: 640.8306755506511, Std: 1127.3432332792065, NotNaN: 4766630\n",
      "AADT_HDV - Avg: 1114.5275197416274, Std: 2429.671731908085, NotNaN: 4766451\n",
      "Shape_Length - Avg: 253.43832673879746, Std: 791.9755261719512, NotNaN: 6598607\n"
     ]
    }
   ],
   "source": [
    "for col in df.columns:\n",
    "    if df[col].dtype in ['float64', 'int64']:\n",
    "        print(f'{col} - Avg: {df[col].mean()}, Std: {df[col].std()}, NotNaN: {df[col].count()}')\n",
    "    else:\n",
    "        print(f'{col} - NotNaN: {df[col].count()}, NUniq: {df[col].nunique()}')"
   ]
  },
  {
   "cell_type": "code",
   "execution_count": 7,
   "metadata": {},
   "outputs": [
    {
     "name": "stdout",
     "output_type": "stream",
     "text": [
      "FID_Link_Cnty_Intxn - Avg: 3465946.741007228, Std: 1987198.488382866, NotNaN: 6598605\n",
      "STATEFP - Avg: 28.798782015289596, Std: 15.630562177236003, NotNaN: 6598605\n",
      "STATENAME - NotNaN: 6590335, NUniq: 50\n",
      "COUNTYFP - Avg: 84.45324913371842, Std: 84.81718843180093, NotNaN: 6598605\n",
      "GEOID - Avg: 28883.235264423314, Std: 15640.171209642785, NotNaN: 6598605\n",
      "F_SYSTEM - Avg: 3.6140513032678876, Std: 1.2748454094937753, NotNaN: 6598605\n",
      "URBAN_CODE - NotNaN: 6598605, NUniq: 5\n",
      "URBAN - Avg: 0.4278510382118645, Std: 0.6164609286986678, NotNaN: 6598605\n",
      "THROUGH_LANES - Avg: 2.739533583234638, Std: 1.3020793543255387, NotNaN: 6598605\n",
      "LANE_KMS - Avg: 0.60825865616463, Std: 1.6373505022973998, NotNaN: 6598605\n",
      "LANE_MILES - Avg: 0.37795440636969474, Std: 1.0174024337230134, NotNaN: 6598605\n",
      "VKT - Avg: 1889.1915324143404, Std: 4594.915493982414, NotNaN: 6598605\n",
      "VMT - Avg: 1173.8891948609737, Std: 2855.1481187256923, NotNaN: 6598605\n",
      "AADT - Avg: 12594.832381389702, Std: 24733.554905563014, NotNaN: 6598605\n",
      "AADT_MDV - Avg: 640.8306623337662, Std: 1127.343240199736, NotNaN: 4766630\n",
      "AADT_HDV - Avg: 1114.527376448431, Std: 2429.671777208949, NotNaN: 4766451\n",
      "Shape_Length - Avg: 253.4384116416277, Std: 791.9756469636237, NotNaN: 6598605\n",
      "VKT_MDV - Avg: 83.75418380378493, Std: 196.8293109119345, NotNaN: 4766630\n",
      "VKT_HDV - Avg: 146.17124605269527, Std: 408.7145257228749, NotNaN: 4766451\n",
      "VKT_LDV - Avg: 1789.3645917136816, Std: 4099.39493189971, NotNaN: 4766139\n",
      "URBAN_DESC - NotNaN: 6598605, NUniq: 3\n"
     ]
    }
   ],
   "source": [
    "for col in df_old.columns:\n",
    "    if df_old[col].dtype in ['float64', 'int64']:\n",
    "        print(f'{col} - Avg: {df_old[col].mean()}, Std: {df_old[col].std()}, NotNaN: {df_old[col].count()}')\n",
    "    else:\n",
    "        print(f'{col} - NotNaN: {df_old[col].count()}, NUniq: {df_old[col].nunique()}')"
   ]
  }
 ],
 "metadata": {
  "kernelspec": {
   "display_name": "hpms",
   "language": "python",
   "name": "python3"
  },
  "language_info": {
   "codemirror_mode": {
    "name": "ipython",
    "version": 3
   },
   "file_extension": ".py",
   "mimetype": "text/x-python",
   "name": "python",
   "nbconvert_exporter": "python",
   "pygments_lexer": "ipython3",
   "version": "3.9.18"
  }
 },
 "nbformat": 4,
 "nbformat_minor": 2
}
