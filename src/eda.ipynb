{
 "cells": [
  {
   "cell_type": "code",
   "execution_count": 1,
   "metadata": {},
   "outputs": [],
   "source": [
    "import pandas as pd\n",
    "import pickle as pkl\n",
    "import numpy as np\n",
    "import os\n",
    "import matplotlib.pyplot as plt\n",
    "import seaborn as sns\n",
    "import aadt_predictor as ap"
   ]
  },
  {
   "cell_type": "markdown",
   "metadata": {},
   "source": [
    "### Hyperparameter Results"
   ]
  },
  {
   "cell_type": "code",
   "execution_count": 5,
   "metadata": {},
   "outputs": [],
   "source": [
    "# Load the results\n",
    "with open('../results/hyperparameter_tuning_results.pkl', 'rb') as f:\n",
    "    results = pkl.load(f)"
   ]
  },
  {
   "cell_type": "code",
   "execution_count": 9,
   "metadata": {},
   "outputs": [
    {
     "name": "stdout",
     "output_type": "stream",
     "text": [
      "Loading data from ../data/hpms_aadt_subset.csv\n"
     ]
    },
    {
     "name": "stderr",
     "output_type": "stream",
     "text": [
      "c:\\Users\\achawla1\\OneDrive - St John's College\\Work\\CSDS\\TRC\\NearRoadExposure\\src\\aadt_predictor.py:30: DtypeWarning: Columns (6) have mixed types. Specify dtype option on import or set low_memory=False.\n",
      "  self.data = pd.read_csv(self.data_path)\n"
     ]
    },
    {
     "name": "stdout",
     "output_type": "stream",
     "text": [
      "Pre-processing data...\n",
      "Data loaded successfully: 4806937 rows and 21 columns.\n"
     ]
    }
   ],
   "source": [
    "OUTDIR = \"../results\"\n",
    "DATA_DIR = \"../data/hpms_aadt_subset.csv\"\n",
    "RESPONSE_VARS = ['AADT_MDV', 'AADT_HDV']\n",
    "RF_PREDICTOR_VARS = [\"STATEFP\", \"COUNTYFP\", \"F_SYSTEM\", \"THROUGH_LANES\", \"AADT\"]\n",
    "RANDOM_STATE = 42\n",
    "\n",
    "predictor = ap.AADTPredictor(DATA_DIR, RESPONSE_VARS, outdir = OUTDIR, random_state = RANDOM_STATE)"
   ]
  },
  {
   "cell_type": "code",
   "execution_count": 20,
   "metadata": {},
   "outputs": [
    {
     "name": "stdout",
     "output_type": "stream",
     "text": [
      "Training and testing data split with test size 0.2 on State 56 and not stratified ...\n",
      "State: 56, Response Variable: AADT_MDV\n",
      "Random Forest model initialized with- {}\n",
      "Default Params: R2: 0.999708097347464, MAE: 1.3999978445085037, MSE: 432.392314468537\n",
      "Random Forest model initialized with- {'max_depth': 20, 'n_estimators': 150, 'min_samples_leaf': 1, 'min_samples_split': 2}\n",
      "Best Params: R2: 0.999695372637411, MAE: 2.0043191201571795, MSE: 451.2412929994561\n",
      "Training and testing data split with test size 0.2 on State 56 and not stratified ...\n",
      "State: 56, Response Variable: AADT_HDV\n",
      "Random Forest model initialized with- {}\n",
      "Default Params: R2: 0.9980653619543062, MAE: 0.6116501185902417, MSE: 63.67522504393412\n",
      "Random Forest model initialized with- {'max_depth': 30, 'n_estimators': 50, 'min_samples_leaf': 1, 'min_samples_split': 2}\n",
      "Best Params: R2: 0.9979218431463396, MAE: 0.6319432058163537, MSE: 68.39889540472831\n",
      "Training and testing data split with test size 0.2 on State 51 and not stratified ...\n",
      "State: 51, Response Variable: AADT_MDV\n",
      "Random Forest model initialized with- {}\n",
      "Default Params: R2: 0.9969413488735437, MAE: 3.570770903523124, MSE: 735.555587081799\n",
      "Random Forest model initialized with- {'max_depth': 30, 'n_estimators': 200, 'min_samples_leaf': 1, 'min_samples_split': 2}\n",
      "Best Params: R2: 0.9975082447053055, MAE: 3.544174298867826, MSE: 599.2264082686254\n",
      "Training and testing data split with test size 0.2 on State 51 and not stratified ...\n",
      "State: 51, Response Variable: AADT_HDV\n",
      "Random Forest model initialized with- {}\n",
      "Default Params: R2: 0.9994564534174819, MAE: 5.304577683606017, MSE: 2545.092870039441\n",
      "Random Forest model initialized with- {'max_depth': 30, 'n_estimators': 200, 'min_samples_leaf': 1, 'min_samples_split': 2}\n",
      "Best Params: R2: 0.9994850016675554, MAE: 5.386608226745258, MSE: 2411.4190506265454\n",
      "Training and testing data split with test size 0.2 on State 06 and not stratified ...\n",
      "State: 06, Response Variable: AADT_MDV\n",
      "Random Forest model initialized with- {}\n",
      "Default Params: R2: 0.9861827660913347, MAE: 28.225254811702346, MSE: 71005.76996420408\n",
      "Random Forest model initialized with- {'max_depth': 30, 'n_estimators': 200, 'min_samples_leaf': 1, 'min_samples_split': 2}\n",
      "Best Params: R2: 0.9862504258710233, MAE: 28.279709864619466, MSE: 70658.07122912051\n",
      "Training and testing data split with test size 0.2 on State 06 and not stratified ...\n",
      "State: 06, Response Variable: AADT_HDV\n",
      "Random Forest model initialized with- {}\n",
      "Default Params: R2: 0.9890751773955873, MAE: 35.103208996755754, MSE: 69770.55902790999\n",
      "Random Forest model initialized with- {'max_depth': 30, 'n_estimators': 200, 'min_samples_leaf': 1, 'min_samples_split': 2}\n",
      "Best Params: R2: 0.9890835652801521, MAE: 35.510436768662984, MSE: 69716.99043312963\n"
     ]
    }
   ],
   "source": [
    "metrics = []\n",
    "for r in results:\n",
    "    predictor.split_data(r['response_var'], RF_PREDICTOR_VARS, state_fips = r['state'])\n",
    "    #  Default parameters\n",
    "    print(f\"State: {r['state']}, Response Variable: {r['response_var']}\")\n",
    "    predictor.initialize_model(\"Random Forest\")\n",
    "    predictor.fit_model()\n",
    "    r2, mae, mse = predictor.test_model()\n",
    "    print(f\"Default Params: R2: {r2}, MAE: {mae}, MSE: {mse}\")\n",
    "    metrics.append({\n",
    "        \"state\": r['state'],\n",
    "        \"parameters\": {},\n",
    "        \"response_var\": r['response_var'],\n",
    "        \"r2\": r2,\n",
    "        \"mae\": mae,\n",
    "        \"mse\": mse\n",
    "    })\n",
    "\n",
    "    #  Best parameters\n",
    "    predictor.initialize_model(\"Random Forest\", \n",
    "                                max_depth = r['best_params']['max_depth'],\n",
    "                                n_estimators = r['best_params']['n_estimators'], \n",
    "                                min_samples_leaf = r['best_params']['min_samples_leaf'],\n",
    "                                min_samples_split = r['best_params']['min_samples_split'])\n",
    "    \n",
    "    predictor.fit_model()\n",
    "    r2, mae, mse = predictor.test_model()\n",
    "    print(f\"Best Params: R2: {r2}, MAE: {mae}, MSE: {mse}\")\n",
    "    metrics.append({\n",
    "        \"state\": r['state'],\n",
    "        \"parameters\": r['best_params'],\n",
    "        \"response_var\": r['response_var'],\n",
    "        \"r2\": r2,\n",
    "        \"mae\": mae,\n",
    "        \"mse\": mse\n",
    "    })"
   ]
  },
  {
   "cell_type": "code",
   "execution_count": 22,
   "metadata": {},
   "outputs": [
    {
     "data": {
      "text/html": [
       "<div>\n",
       "<style scoped>\n",
       "    .dataframe tbody tr th:only-of-type {\n",
       "        vertical-align: middle;\n",
       "    }\n",
       "\n",
       "    .dataframe tbody tr th {\n",
       "        vertical-align: top;\n",
       "    }\n",
       "\n",
       "    .dataframe thead th {\n",
       "        text-align: right;\n",
       "    }\n",
       "</style>\n",
       "<table border=\"1\" class=\"dataframe\">\n",
       "  <thead>\n",
       "    <tr style=\"text-align: right;\">\n",
       "      <th></th>\n",
       "      <th>state</th>\n",
       "      <th>parameters</th>\n",
       "      <th>response_var</th>\n",
       "      <th>r2</th>\n",
       "      <th>mae</th>\n",
       "      <th>mse</th>\n",
       "    </tr>\n",
       "  </thead>\n",
       "  <tbody>\n",
       "    <tr>\n",
       "      <th>0</th>\n",
       "      <td>56</td>\n",
       "      <td>{}</td>\n",
       "      <td>AADT_MDV</td>\n",
       "      <td>0.999708</td>\n",
       "      <td>1.399998</td>\n",
       "      <td>432.392314</td>\n",
       "    </tr>\n",
       "    <tr>\n",
       "      <th>1</th>\n",
       "      <td>56</td>\n",
       "      <td>{'max_depth': 20, 'min_samples_leaf': 1, 'min_...</td>\n",
       "      <td>AADT_MDV</td>\n",
       "      <td>0.999695</td>\n",
       "      <td>2.004319</td>\n",
       "      <td>451.241293</td>\n",
       "    </tr>\n",
       "    <tr>\n",
       "      <th>2</th>\n",
       "      <td>56</td>\n",
       "      <td>{}</td>\n",
       "      <td>AADT_HDV</td>\n",
       "      <td>0.998065</td>\n",
       "      <td>0.611650</td>\n",
       "      <td>63.675225</td>\n",
       "    </tr>\n",
       "    <tr>\n",
       "      <th>3</th>\n",
       "      <td>56</td>\n",
       "      <td>{'max_depth': 30, 'min_samples_leaf': 1, 'min_...</td>\n",
       "      <td>AADT_HDV</td>\n",
       "      <td>0.997922</td>\n",
       "      <td>0.631943</td>\n",
       "      <td>68.398895</td>\n",
       "    </tr>\n",
       "    <tr>\n",
       "      <th>4</th>\n",
       "      <td>51</td>\n",
       "      <td>{}</td>\n",
       "      <td>AADT_MDV</td>\n",
       "      <td>0.996941</td>\n",
       "      <td>3.570771</td>\n",
       "      <td>735.555587</td>\n",
       "    </tr>\n",
       "    <tr>\n",
       "      <th>5</th>\n",
       "      <td>51</td>\n",
       "      <td>{'max_depth': 30, 'min_samples_leaf': 1, 'min_...</td>\n",
       "      <td>AADT_MDV</td>\n",
       "      <td>0.997508</td>\n",
       "      <td>3.544174</td>\n",
       "      <td>599.226408</td>\n",
       "    </tr>\n",
       "    <tr>\n",
       "      <th>6</th>\n",
       "      <td>51</td>\n",
       "      <td>{}</td>\n",
       "      <td>AADT_HDV</td>\n",
       "      <td>0.999456</td>\n",
       "      <td>5.304578</td>\n",
       "      <td>2545.092870</td>\n",
       "    </tr>\n",
       "    <tr>\n",
       "      <th>7</th>\n",
       "      <td>51</td>\n",
       "      <td>{'max_depth': 30, 'min_samples_leaf': 1, 'min_...</td>\n",
       "      <td>AADT_HDV</td>\n",
       "      <td>0.999485</td>\n",
       "      <td>5.386608</td>\n",
       "      <td>2411.419051</td>\n",
       "    </tr>\n",
       "    <tr>\n",
       "      <th>8</th>\n",
       "      <td>06</td>\n",
       "      <td>{}</td>\n",
       "      <td>AADT_MDV</td>\n",
       "      <td>0.986183</td>\n",
       "      <td>28.225255</td>\n",
       "      <td>71005.769964</td>\n",
       "    </tr>\n",
       "    <tr>\n",
       "      <th>9</th>\n",
       "      <td>06</td>\n",
       "      <td>{'max_depth': 30, 'min_samples_leaf': 1, 'min_...</td>\n",
       "      <td>AADT_MDV</td>\n",
       "      <td>0.986250</td>\n",
       "      <td>28.279710</td>\n",
       "      <td>70658.071229</td>\n",
       "    </tr>\n",
       "    <tr>\n",
       "      <th>10</th>\n",
       "      <td>06</td>\n",
       "      <td>{}</td>\n",
       "      <td>AADT_HDV</td>\n",
       "      <td>0.989075</td>\n",
       "      <td>35.103209</td>\n",
       "      <td>69770.559028</td>\n",
       "    </tr>\n",
       "    <tr>\n",
       "      <th>11</th>\n",
       "      <td>06</td>\n",
       "      <td>{'max_depth': 30, 'min_samples_leaf': 1, 'min_...</td>\n",
       "      <td>AADT_HDV</td>\n",
       "      <td>0.989084</td>\n",
       "      <td>35.510437</td>\n",
       "      <td>69716.990433</td>\n",
       "    </tr>\n",
       "  </tbody>\n",
       "</table>\n",
       "</div>"
      ],
      "text/plain": [
       "   state                                         parameters response_var  \\\n",
       "0     56                                                 {}     AADT_MDV   \n",
       "1     56  {'max_depth': 20, 'min_samples_leaf': 1, 'min_...     AADT_MDV   \n",
       "2     56                                                 {}     AADT_HDV   \n",
       "3     56  {'max_depth': 30, 'min_samples_leaf': 1, 'min_...     AADT_HDV   \n",
       "4     51                                                 {}     AADT_MDV   \n",
       "5     51  {'max_depth': 30, 'min_samples_leaf': 1, 'min_...     AADT_MDV   \n",
       "6     51                                                 {}     AADT_HDV   \n",
       "7     51  {'max_depth': 30, 'min_samples_leaf': 1, 'min_...     AADT_HDV   \n",
       "8     06                                                 {}     AADT_MDV   \n",
       "9     06  {'max_depth': 30, 'min_samples_leaf': 1, 'min_...     AADT_MDV   \n",
       "10    06                                                 {}     AADT_HDV   \n",
       "11    06  {'max_depth': 30, 'min_samples_leaf': 1, 'min_...     AADT_HDV   \n",
       "\n",
       "          r2        mae           mse  \n",
       "0   0.999708   1.399998    432.392314  \n",
       "1   0.999695   2.004319    451.241293  \n",
       "2   0.998065   0.611650     63.675225  \n",
       "3   0.997922   0.631943     68.398895  \n",
       "4   0.996941   3.570771    735.555587  \n",
       "5   0.997508   3.544174    599.226408  \n",
       "6   0.999456   5.304578   2545.092870  \n",
       "7   0.999485   5.386608   2411.419051  \n",
       "8   0.986183  28.225255  71005.769964  \n",
       "9   0.986250  28.279710  70658.071229  \n",
       "10  0.989075  35.103209  69770.559028  \n",
       "11  0.989084  35.510437  69716.990433  "
      ]
     },
     "execution_count": 22,
     "metadata": {},
     "output_type": "execute_result"
    }
   ],
   "source": [
    "metrics_df = pd.DataFrame(metrics)\n",
    "metrics_df"
   ]
  },
  {
   "cell_type": "code",
   "execution_count": 23,
   "metadata": {},
   "outputs": [],
   "source": [
    "# # Visualize the results\n",
    "# metrics_df = pd.DataFrame(metrics)\n",
    "\n",
    "# fig, ax = plt.subplots(1, 2, figsize = (10, 5))\n",
    "# sns.barplot(x = \"state\", y = \"r2\", hue = \"parameters\", data = metrics_df, ax = ax[0])\n",
    "# ax[0].set_title(\"R2\")\n",
    "# ax[0].set_ylim(0, 1)\n",
    "# sns.barplot(x = \"state\", y = \"mae\", hue = \"parameters\", data = metrics_df, ax = ax[1])\n",
    "# ax[1].set_title(\"MAE\")\n",
    "# plt.tight_layout()\n"
   ]
  },
  {
   "cell_type": "code",
   "execution_count": 2,
   "metadata": {},
   "outputs": [
    {
     "name": "stdout",
     "output_type": "stream",
     "text": [
      "Imputing missing AADT values\n"
     ]
    },
    {
     "name": "stderr",
     "output_type": "stream",
     "text": [
      "C:\\Users\\achawla1\\AppData\\Local\\Temp\\ipykernel_8256\\1488025879.py:9: DtypeWarning: Columns (6) have mixed types. Specify dtype option on import or set low_memory=False.\n",
      "  full_data = pd.read_csv(DATA_DIR)\n"
     ]
    }
   ],
   "source": [
    "print(\"Imputing missing AADT values\", flush=True)\n",
    "\n",
    "OUTDIR = \"../results\"\n",
    "DATA_DIR = \"../data/hpms_aadt_subset.csv\"\n",
    "RESPONSE_VARS = ['AADT_MDV', 'AADT_HDV']\n",
    "RF_PREDICTOR_VARS = [\"COUNTYFP\", \"F_SYSTEM\", \"THROUGH_LANES\", \"AADT\"]\n",
    "RANDOM_STATE = 42\n",
    "\n",
    "full_data = pd.read_csv(DATA_DIR)\n",
    "len(full_data)"
   ]
  },
  {
   "cell_type": "code",
   "execution_count": 3,
   "metadata": {},
   "outputs": [
    {
     "name": "stdout",
     "output_type": "stream",
     "text": [
      "Loading data from ../data/hpms_aadt_subset.csv\n"
     ]
    },
    {
     "name": "stderr",
     "output_type": "stream",
     "text": [
      "c:\\Users\\achawla1\\OneDrive - St John's College\\Work\\CSDS\\TRC\\NearRoadExposure\\src\\aadt_predictor.py:30: DtypeWarning: Columns (6) have mixed types. Specify dtype option on import or set low_memory=False.\n",
      "  self.data = pd.read_csv(self.data_path)\n"
     ]
    },
    {
     "name": "stdout",
     "output_type": "stream",
     "text": [
      "Pre-processing data...\n",
      "Data loaded successfully: 4807444 rows and 21 columns.\n"
     ]
    }
   ],
   "source": [
    "predictor = ap.AADTPredictor(DATA_DIR, RESPONSE_VARS[0], outdir = OUTDIR, random_state = RANDOM_STATE)"
   ]
  },
  {
   "cell_type": "code",
   "execution_count": 26,
   "metadata": {},
   "outputs": [
    {
     "name": "stdout",
     "output_type": "stream",
     "text": [
      "Training and testing data split with test size 1e-10 on State 26 and not stratified ...\n"
     ]
    }
   ],
   "source": [
    "missing_data = full_data[(full_data.STATEFP == 26) & (full_data[RESPONSE_VARS[0]].isna())]\n",
    "predictor.split_data(RF_PREDICTOR_VARS, state_fips = '26', test_size=1e-10)"
   ]
  },
  {
   "cell_type": "code",
   "execution_count": 18,
   "metadata": {},
   "outputs": [
    {
     "data": {
      "text/plain": [
       "(120646, 4)"
      ]
     },
     "execution_count": 18,
     "metadata": {},
     "output_type": "execute_result"
    }
   ],
   "source": [
    "predictor.X_train.shape"
   ]
  },
  {
   "cell_type": "code",
   "execution_count": 19,
   "metadata": {},
   "outputs": [
    {
     "data": {
      "text/plain": [
       "(1,)"
      ]
     },
     "execution_count": 19,
     "metadata": {},
     "output_type": "execute_result"
    }
   ],
   "source": [
    "predictor.y_test.shape"
   ]
  },
  {
   "cell_type": "code",
   "execution_count": null,
   "metadata": {},
   "outputs": [],
   "source": [
    "\n",
    "for response_var in RESPONSE_VARS:\n",
    "    predictor = ap.AADTPredictor(DATA_DIR, response_var, outdir = OUTDIR, random_state = RANDOM_STATE)\n",
    "    for state in full_data.STATEFP.unique():\n",
    "        print(f\"Imputing {response_var} for state {state}\", flush=True)\n",
    "        missing_data = full_data[(full_data.STATEFP == state) & (full_data[response_var].isna())]\n",
    "        predictor.split_data(RF_PREDICTOR_VARS, state_fips = state, test_size=0.0)\n",
    "        predictor.initialize_model(\"Random Forest\")\n",
    "        predictor.model.predict()"
   ]
  }
 ],
 "metadata": {
  "kernelspec": {
   "display_name": "hpms",
   "language": "python",
   "name": "python3"
  },
  "language_info": {
   "codemirror_mode": {
    "name": "ipython",
    "version": 3
   },
   "file_extension": ".py",
   "mimetype": "text/x-python",
   "name": "python",
   "nbconvert_exporter": "python",
   "pygments_lexer": "ipython3",
   "version": "3.12.1"
  }
 },
 "nbformat": 4,
 "nbformat_minor": 2
}
